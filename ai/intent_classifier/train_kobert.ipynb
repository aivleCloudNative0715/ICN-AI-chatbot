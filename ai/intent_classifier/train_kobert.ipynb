{
 "cells": [
  {
   "cell_type": "code",
   "execution_count": null,
   "id": "18563153",
   "metadata": {
    "colab": {
     "base_uri": "https://localhost:8080/",
     "height": 435
    },
    "executionInfo": {
     "elapsed": 17757,
     "status": "ok",
     "timestamp": 1753706324109,
     "user": {
      "displayName": "Hyun Jung Oh",
      "userId": "14841286664462358370"
     },
     "user_tz": -540
    },
    "id": "18563153",
    "outputId": "732c71e5-c59f-4ecd-b7ce-94aacb2d9e0c"
   },
   "outputs": [
    {
     "output_type": "stream",
     "name": "stdout",
     "text": [
      "Collecting numpy==1.26.4\n",
      "  Downloading numpy-1.26.4-cp311-cp311-manylinux_2_17_x86_64.manylinux2014_x86_64.whl.metadata (61 kB)\n",
      "\u001B[?25l     \u001B[90m━━━━━━━━━━━━━━━━━━━━━━━━━━━━━━━━━━━━━━━━\u001B[0m \u001B[32m0.0/61.0 kB\u001B[0m \u001B[31m?\u001B[0m eta \u001B[36m-:--:--\u001B[0m\r\u001B[2K     \u001B[90m━━━━━━━━━━━━━━━━━━━━━━━━━━━━━━━━━━━━━━━━\u001B[0m \u001B[32m61.0/61.0 kB\u001B[0m \u001B[31m4.7 MB/s\u001B[0m eta \u001B[36m0:00:00\u001B[0m\n",
      "\u001B[?25hDownloading numpy-1.26.4-cp311-cp311-manylinux_2_17_x86_64.manylinux2014_x86_64.whl (18.3 MB)\n",
      "\u001B[2K   \u001B[90m━━━━━━━━━━━━━━━━━━━━━━━━━━━━━━━━━━━━━━━━\u001B[0m \u001B[32m18.3/18.3 MB\u001B[0m \u001B[31m107.4 MB/s\u001B[0m eta \u001B[36m0:00:00\u001B[0m\n",
      "\u001B[?25hInstalling collected packages: numpy\n",
      "  Attempting uninstall: numpy\n",
      "    Found existing installation: numpy 2.0.2\n",
      "    Uninstalling numpy-2.0.2:\n",
      "      Successfully uninstalled numpy-2.0.2\n",
      "\u001B[31mERROR: pip's dependency resolver does not currently take into account all the packages that are installed. This behaviour is the source of the following dependency conflicts.\n",
      "opencv-contrib-python 4.12.0.88 requires numpy<2.3.0,>=2; python_version >= \"3.9\", but you have numpy 1.26.4 which is incompatible.\n",
      "opencv-python-headless 4.12.0.88 requires numpy<2.3.0,>=2; python_version >= \"3.9\", but you have numpy 1.26.4 which is incompatible.\n",
      "thinc 8.3.6 requires numpy<3.0.0,>=2.0.0, but you have numpy 1.26.4 which is incompatible.\n",
      "opencv-python 4.12.0.88 requires numpy<2.3.0,>=2; python_version >= \"3.9\", but you have numpy 1.26.4 which is incompatible.\u001B[0m\u001B[31m\n",
      "\u001B[0mSuccessfully installed numpy-1.26.4\n"
     ]
    },
    {
     "output_type": "display_data",
     "data": {
      "application/vnd.colab-display-data+json": {
       "pip_warning": {
        "packages": [
         "numpy"
        ]
       },
       "id": "cd3ca7a5f501463380cc9a93bd32e9dd"
      }
     },
     "metadata": {}
    }
   ],
   "source": [
    "!pip install -q transformers\n",
    "!pip install -q tqdm scikit-learn pandas\n",
    "!pip install numpy==1.26.4\n"
   ]
  },
  {
   "cell_type": "code",
   "execution_count": 55,
   "id": "a9577f8d",
   "metadata": {
    "executionInfo": {
     "elapsed": 5,
     "status": "ok",
     "timestamp": 1753779574905,
     "user": {
      "displayName": "Hyun Jung Oh",
      "userId": "14841286664462358370"
     },
     "user_tz": -540
    },
    "id": "a9577f8d"
   },
   "outputs": [],
   "source": [
    "\n",
    "import pandas as pd\n",
    "import matplotlib.pyplot as plt\n",
    "from tqdm import tqdm\n",
    "from torch.utils.data import Dataset, DataLoader\n",
    "from transformers import AutoTokenizer\n",
    "from torch.optim import AdamW\n",
    "from sklearn.utils import resample\n",
    "from sklearn.model_selection import train_test_split\n",
    "from collections import Counter\n",
    "\n",
    "\n",
    "tqdm.pandas()\n"
   ]
  },
  {
   "cell_type": "code",
   "execution_count": 14,
   "id": "Wm6xqcWKRjUD",
   "metadata": {
    "executionInfo": {
     "elapsed": 19,
     "status": "ok",
     "timestamp": 1753776679450,
     "user": {
      "displayName": "Hyun Jung Oh",
      "userId": "14841286664462358370"
     },
     "user_tz": -540
    },
    "id": "Wm6xqcWKRjUD"
   },
   "outputs": [],
   "source": [
    "df = pd.read_csv(\"intent_slot_dataset_cleaned.csv\")\n",
    "df_extra = pd.read_csv(\"keyword_boost_slot.csv\")\n",
    "df_combined = pd.concat([df_extra, df]).reset_index(drop=True)"
   ]
  },
  {
   "metadata": {},
   "cell_type": "code",
   "outputs": [],
   "execution_count": null,
   "source": [
    "def convert_to_bio_word_level(sentence, slot_json):\n",
    "    tokens = sentence.split()  # 단어 단위로 토큰화\n",
    "    labels = ['O'] * len(tokens)\n",
    "\n",
    "    for slot_name, slot_value in slot_json.items():\n",
    "        slot_values = slot_value if isinstance(slot_value, list) else [slot_value]\n",
    "        for val in slot_values:\n",
    "            if not isinstance(val, str): continue\n",
    "            val_tokens = val.split()\n",
    "\n",
    "            for i in range(len(tokens) - len(val_tokens) + 1):\n",
    "                if tokens[i:i+len(val_tokens)] == val_tokens:\n",
    "                    labels[i] = f'B-{slot_name}'\n",
    "                    for j in range(1, len(val_tokens)):\n",
    "                        labels[i + j] = f'I-{slot_name}'\n",
    "                    break  # 중복 방지\n",
    "    return tokens, labels"
   ],
   "id": "42f274bbd5e5517f"
  },
  {
   "cell_type": "code",
   "execution_count": 15,
   "id": "Q__xPnvpRh5n",
   "metadata": {
    "colab": {
     "base_uri": "https://localhost:8080/",
     "height": 206
    },
    "executionInfo": {
     "elapsed": 443,
     "status": "ok",
     "timestamp": 1753776680148,
     "user": {
      "displayName": "Hyun Jung Oh",
      "userId": "14841286664462358370"
     },
     "user_tz": -540
    },
    "id": "Q__xPnvpRh5n",
    "outputId": "3b5c8b07-ce80-4d40-f1a3-c942616cf037"
   },
   "outputs": [
    {
     "output_type": "execute_result",
     "data": {
      "text/plain": [
       "               intent       tokens              labels\n",
       "0  airline_info_query  [항공사, 고객센터]  [B-topic, I-topic]\n",
       "1  airline_info_query  [항공사, 전화번호]  [B-topic, I-topic]\n",
       "2  airline_info_query   [항공사, 연락처]  [B-topic, I-topic]\n",
       "3  airline_info_query    [항공사, 로고]  [B-topic, I-topic]\n",
       "4  airline_info_query   [항공사, 이미지]  [B-topic, I-topic]"
      ],
      "text/html": [
       "\n",
       "  <div id=\"df-d20152d7-94ba-4b64-94b0-455ce60381ab\" class=\"colab-df-container\">\n",
       "    <div>\n",
       "<style scoped>\n",
       "    .dataframe tbody tr th:only-of-type {\n",
       "        vertical-align: middle;\n",
       "    }\n",
       "\n",
       "    .dataframe tbody tr th {\n",
       "        vertical-align: top;\n",
       "    }\n",
       "\n",
       "    .dataframe thead th {\n",
       "        text-align: right;\n",
       "    }\n",
       "</style>\n",
       "<table border=\"1\" class=\"dataframe\">\n",
       "  <thead>\n",
       "    <tr style=\"text-align: right;\">\n",
       "      <th></th>\n",
       "      <th>intent</th>\n",
       "      <th>tokens</th>\n",
       "      <th>labels</th>\n",
       "    </tr>\n",
       "  </thead>\n",
       "  <tbody>\n",
       "    <tr>\n",
       "      <th>0</th>\n",
       "      <td>airline_info_query</td>\n",
       "      <td>[항공사, 고객센터]</td>\n",
       "      <td>[B-topic, I-topic]</td>\n",
       "    </tr>\n",
       "    <tr>\n",
       "      <th>1</th>\n",
       "      <td>airline_info_query</td>\n",
       "      <td>[항공사, 전화번호]</td>\n",
       "      <td>[B-topic, I-topic]</td>\n",
       "    </tr>\n",
       "    <tr>\n",
       "      <th>2</th>\n",
       "      <td>airline_info_query</td>\n",
       "      <td>[항공사, 연락처]</td>\n",
       "      <td>[B-topic, I-topic]</td>\n",
       "    </tr>\n",
       "    <tr>\n",
       "      <th>3</th>\n",
       "      <td>airline_info_query</td>\n",
       "      <td>[항공사, 로고]</td>\n",
       "      <td>[B-topic, I-topic]</td>\n",
       "    </tr>\n",
       "    <tr>\n",
       "      <th>4</th>\n",
       "      <td>airline_info_query</td>\n",
       "      <td>[항공사, 이미지]</td>\n",
       "      <td>[B-topic, I-topic]</td>\n",
       "    </tr>\n",
       "  </tbody>\n",
       "</table>\n",
       "</div>\n",
       "    <div class=\"colab-df-buttons\">\n",
       "\n",
       "  <div class=\"colab-df-container\">\n",
       "    <button class=\"colab-df-convert\" onclick=\"convertToInteractive('df-d20152d7-94ba-4b64-94b0-455ce60381ab')\"\n",
       "            title=\"Convert this dataframe to an interactive table.\"\n",
       "            style=\"display:none;\">\n",
       "\n",
       "  <svg xmlns=\"http://www.w3.org/2000/svg\" height=\"24px\" viewBox=\"0 -960 960 960\">\n",
       "    <path d=\"M120-120v-720h720v720H120Zm60-500h600v-160H180v160Zm220 220h160v-160H400v160Zm0 220h160v-160H400v160ZM180-400h160v-160H180v160Zm440 0h160v-160H620v160ZM180-180h160v-160H180v160Zm440 0h160v-160H620v160Z\"/>\n",
       "  </svg>\n",
       "    </button>\n",
       "\n",
       "  <style>\n",
       "    .colab-df-container {\n",
       "      display:flex;\n",
       "      gap: 12px;\n",
       "    }\n",
       "\n",
       "    .colab-df-convert {\n",
       "      background-color: #E8F0FE;\n",
       "      border: none;\n",
       "      border-radius: 50%;\n",
       "      cursor: pointer;\n",
       "      display: none;\n",
       "      fill: #1967D2;\n",
       "      height: 32px;\n",
       "      padding: 0 0 0 0;\n",
       "      width: 32px;\n",
       "    }\n",
       "\n",
       "    .colab-df-convert:hover {\n",
       "      background-color: #E2EBFA;\n",
       "      box-shadow: 0px 1px 2px rgba(60, 64, 67, 0.3), 0px 1px 3px 1px rgba(60, 64, 67, 0.15);\n",
       "      fill: #174EA6;\n",
       "    }\n",
       "\n",
       "    .colab-df-buttons div {\n",
       "      margin-bottom: 4px;\n",
       "    }\n",
       "\n",
       "    [theme=dark] .colab-df-convert {\n",
       "      background-color: #3B4455;\n",
       "      fill: #D2E3FC;\n",
       "    }\n",
       "\n",
       "    [theme=dark] .colab-df-convert:hover {\n",
       "      background-color: #434B5C;\n",
       "      box-shadow: 0px 1px 3px 1px rgba(0, 0, 0, 0.15);\n",
       "      filter: drop-shadow(0px 1px 2px rgba(0, 0, 0, 0.3));\n",
       "      fill: #FFFFFF;\n",
       "    }\n",
       "  </style>\n",
       "\n",
       "    <script>\n",
       "      const buttonEl =\n",
       "        document.querySelector('#df-d20152d7-94ba-4b64-94b0-455ce60381ab button.colab-df-convert');\n",
       "      buttonEl.style.display =\n",
       "        google.colab.kernel.accessAllowed ? 'block' : 'none';\n",
       "\n",
       "      async function convertToInteractive(key) {\n",
       "        const element = document.querySelector('#df-d20152d7-94ba-4b64-94b0-455ce60381ab');\n",
       "        const dataTable =\n",
       "          await google.colab.kernel.invokeFunction('convertToInteractive',\n",
       "                                                    [key], {});\n",
       "        if (!dataTable) return;\n",
       "\n",
       "        const docLinkHtml = 'Like what you see? Visit the ' +\n",
       "          '<a target=\"_blank\" href=https://colab.research.google.com/notebooks/data_table.ipynb>data table notebook</a>'\n",
       "          + ' to learn more about interactive tables.';\n",
       "        element.innerHTML = '';\n",
       "        dataTable['output_type'] = 'display_data';\n",
       "        await google.colab.output.renderOutput(dataTable, element);\n",
       "        const docLink = document.createElement('div');\n",
       "        docLink.innerHTML = docLinkHtml;\n",
       "        element.appendChild(docLink);\n",
       "      }\n",
       "    </script>\n",
       "  </div>\n",
       "\n",
       "\n",
       "    <div id=\"df-d6d67345-902d-42bf-b6ee-bac12be86bdc\">\n",
       "      <button class=\"colab-df-quickchart\" onclick=\"quickchart('df-d6d67345-902d-42bf-b6ee-bac12be86bdc')\"\n",
       "                title=\"Suggest charts\"\n",
       "                style=\"display:none;\">\n",
       "\n",
       "<svg xmlns=\"http://www.w3.org/2000/svg\" height=\"24px\"viewBox=\"0 0 24 24\"\n",
       "     width=\"24px\">\n",
       "    <g>\n",
       "        <path d=\"M19 3H5c-1.1 0-2 .9-2 2v14c0 1.1.9 2 2 2h14c1.1 0 2-.9 2-2V5c0-1.1-.9-2-2-2zM9 17H7v-7h2v7zm4 0h-2V7h2v10zm4 0h-2v-4h2v4z\"/>\n",
       "    </g>\n",
       "</svg>\n",
       "      </button>\n",
       "\n",
       "<style>\n",
       "  .colab-df-quickchart {\n",
       "      --bg-color: #E8F0FE;\n",
       "      --fill-color: #1967D2;\n",
       "      --hover-bg-color: #E2EBFA;\n",
       "      --hover-fill-color: #174EA6;\n",
       "      --disabled-fill-color: #AAA;\n",
       "      --disabled-bg-color: #DDD;\n",
       "  }\n",
       "\n",
       "  [theme=dark] .colab-df-quickchart {\n",
       "      --bg-color: #3B4455;\n",
       "      --fill-color: #D2E3FC;\n",
       "      --hover-bg-color: #434B5C;\n",
       "      --hover-fill-color: #FFFFFF;\n",
       "      --disabled-bg-color: #3B4455;\n",
       "      --disabled-fill-color: #666;\n",
       "  }\n",
       "\n",
       "  .colab-df-quickchart {\n",
       "    background-color: var(--bg-color);\n",
       "    border: none;\n",
       "    border-radius: 50%;\n",
       "    cursor: pointer;\n",
       "    display: none;\n",
       "    fill: var(--fill-color);\n",
       "    height: 32px;\n",
       "    padding: 0;\n",
       "    width: 32px;\n",
       "  }\n",
       "\n",
       "  .colab-df-quickchart:hover {\n",
       "    background-color: var(--hover-bg-color);\n",
       "    box-shadow: 0 1px 2px rgba(60, 64, 67, 0.3), 0 1px 3px 1px rgba(60, 64, 67, 0.15);\n",
       "    fill: var(--button-hover-fill-color);\n",
       "  }\n",
       "\n",
       "  .colab-df-quickchart-complete:disabled,\n",
       "  .colab-df-quickchart-complete:disabled:hover {\n",
       "    background-color: var(--disabled-bg-color);\n",
       "    fill: var(--disabled-fill-color);\n",
       "    box-shadow: none;\n",
       "  }\n",
       "\n",
       "  .colab-df-spinner {\n",
       "    border: 2px solid var(--fill-color);\n",
       "    border-color: transparent;\n",
       "    border-bottom-color: var(--fill-color);\n",
       "    animation:\n",
       "      spin 1s steps(1) infinite;\n",
       "  }\n",
       "\n",
       "  @keyframes spin {\n",
       "    0% {\n",
       "      border-color: transparent;\n",
       "      border-bottom-color: var(--fill-color);\n",
       "      border-left-color: var(--fill-color);\n",
       "    }\n",
       "    20% {\n",
       "      border-color: transparent;\n",
       "      border-left-color: var(--fill-color);\n",
       "      border-top-color: var(--fill-color);\n",
       "    }\n",
       "    30% {\n",
       "      border-color: transparent;\n",
       "      border-left-color: var(--fill-color);\n",
       "      border-top-color: var(--fill-color);\n",
       "      border-right-color: var(--fill-color);\n",
       "    }\n",
       "    40% {\n",
       "      border-color: transparent;\n",
       "      border-right-color: var(--fill-color);\n",
       "      border-top-color: var(--fill-color);\n",
       "    }\n",
       "    60% {\n",
       "      border-color: transparent;\n",
       "      border-right-color: var(--fill-color);\n",
       "    }\n",
       "    80% {\n",
       "      border-color: transparent;\n",
       "      border-right-color: var(--fill-color);\n",
       "      border-bottom-color: var(--fill-color);\n",
       "    }\n",
       "    90% {\n",
       "      border-color: transparent;\n",
       "      border-bottom-color: var(--fill-color);\n",
       "    }\n",
       "  }\n",
       "</style>\n",
       "\n",
       "      <script>\n",
       "        async function quickchart(key) {\n",
       "          const quickchartButtonEl =\n",
       "            document.querySelector('#' + key + ' button');\n",
       "          quickchartButtonEl.disabled = true;  // To prevent multiple clicks.\n",
       "          quickchartButtonEl.classList.add('colab-df-spinner');\n",
       "          try {\n",
       "            const charts = await google.colab.kernel.invokeFunction(\n",
       "                'suggestCharts', [key], {});\n",
       "          } catch (error) {\n",
       "            console.error('Error during call to suggestCharts:', error);\n",
       "          }\n",
       "          quickchartButtonEl.classList.remove('colab-df-spinner');\n",
       "          quickchartButtonEl.classList.add('colab-df-quickchart-complete');\n",
       "        }\n",
       "        (() => {\n",
       "          let quickchartButtonEl =\n",
       "            document.querySelector('#df-d6d67345-902d-42bf-b6ee-bac12be86bdc button');\n",
       "          quickchartButtonEl.style.display =\n",
       "            google.colab.kernel.accessAllowed ? 'block' : 'none';\n",
       "        })();\n",
       "      </script>\n",
       "    </div>\n",
       "\n",
       "    </div>\n",
       "  </div>\n"
      ],
      "application/vnd.google.colaboratory.intrinsic+json": {
       "type": "dataframe",
       "variable_name": "df_bio",
       "summary": "{\n  \"name\": \"df_bio\",\n  \"rows\": 5205,\n  \"fields\": [\n    {\n      \"column\": \"intent\",\n      \"properties\": {\n        \"dtype\": \"category\",\n        \"num_unique_values\": 21,\n        \"samples\": [\n          \"airline_info_query\",\n          \"regular_schedule_query\",\n          \"parking_location_recommendation\"\n        ],\n        \"semantic_type\": \"\",\n        \"description\": \"\"\n      }\n    },\n    {\n      \"column\": \"tokens\",\n      \"properties\": {\n        \"dtype\": \"object\",\n        \"semantic_type\": \"\",\n        \"description\": \"\"\n      }\n    },\n    {\n      \"column\": \"labels\",\n      \"properties\": {\n        \"dtype\": \"object\",\n        \"semantic_type\": \"\",\n        \"description\": \"\"\n      }\n    }\n  ]\n}"
      }
     },
     "metadata": {},
     "execution_count": 15
    }
   ],
   "source": [
    "import ast\n",
    "\n",
    "bio_data = []\n",
    "\n",
    "for idx, (_, row) in enumerate(df_combined.iterrows()):\n",
    "    sentence = str(row['question']).strip()\n",
    "\n",
    "    if not sentence or sentence.lower() == 'nan':\n",
    "        continue\n",
    "\n",
    "    raw_slots = row['slots']\n",
    "\n",
    "    try:\n",
    "        if isinstance(raw_slots, str):\n",
    "            if raw_slots.strip() in ['', '[]', '{}', 'nan']:\n",
    "                slot_dict = {}\n",
    "            else:\n",
    "                # 🔁 문자열 기반 JSON → Python 호환 치환\n",
    "                cleaned_slot_str = (\n",
    "                    raw_slots\n",
    "                    .replace('null', 'None')\n",
    "                    .replace('true', 'True')\n",
    "                    .replace('false', 'False')\n",
    "                )\n",
    "                slot_dict = ast.literal_eval(cleaned_slot_str)\n",
    "        elif isinstance(raw_slots, dict):\n",
    "            slot_dict = raw_slots\n",
    "        else:\n",
    "            slot_dict = {}\n",
    "\n",
    "        tokens, labels = convert_to_bio_word_level(sentence, slot_dict)\n",
    "        bio_data.append({\n",
    "            \"intent\": row[\"intent\"],\n",
    "            \"tokens\": tokens,\n",
    "            \"labels\": labels\n",
    "        })\n",
    "\n",
    "    except Exception as e:\n",
    "        print(\"⚠️ Error at row:\", idx)\n",
    "        print(\"Sentence:\", sentence)\n",
    "        print(\"Raw slots:\", raw_slots)\n",
    "        print(\"Error type:\", type(e).__name__)\n",
    "        print(\"Error message:\", str(e))\n",
    "        print(\"=\" * 60)\n",
    "        continue\n",
    "\n",
    "df_bio = pd.DataFrame(bio_data)\n",
    "df_bio.head()\n"
   ]
  },
  {
   "cell_type": "code",
   "execution_count": 16,
   "id": "d9505fea",
   "metadata": {
    "executionInfo": {
     "elapsed": 3,
     "status": "ok",
     "timestamp": 1753776680182,
     "user": {
      "displayName": "Hyun Jung Oh",
      "userId": "14841286664462358370"
     },
     "user_tz": -540
    },
    "id": "d9505fea"
   },
   "outputs": [],
   "source": [
    "intent_labels = sorted(df_bio['intent'].unique())\n",
    "intent2idx = {label: i for i, label in enumerate(intent_labels)}\n",
    "idx2intent = {i: label for label, i in intent2idx.items()}\n",
    "\n",
    "# 1. string → list 변환\n",
    "df_bio['labels'] = df_bio['labels'].apply(lambda x: ast.literal_eval(x) if isinstance(x, str) else x)\n",
    "\n",
    "# 2. flatten + B/I 확장\n",
    "original_labels = set()\n",
    "for label_list in df_bio['labels']:\n",
    "    for label in label_list:\n",
    "        original_labels.add(label)\n",
    "        # B-xxx가 있으면 I-xxx도 추가\n",
    "        if label.startswith('B-'):\n",
    "            original_labels.add('I-' + label[2:])\n",
    "\n",
    "# 3. 정렬 및 매핑 생성\n",
    "slot_labels = sorted(original_labels)\n",
    "slot2idx = {label: i for i, label in enumerate(slot_labels)}\n",
    "idx2slot = {i: label for label, i in slot2idx.items()}\n"
   ]
  },
  {
   "cell_type": "code",
   "execution_count": 17,
   "id": "48dd4c68",
   "metadata": {
    "executionInfo": {
     "elapsed": 316,
     "status": "ok",
     "timestamp": 1753776680691,
     "user": {
      "displayName": "Hyun Jung Oh",
      "userId": "14841286664462358370"
     },
     "user_tz": -540
    },
    "id": "48dd4c68"
   },
   "outputs": [],
   "source": [
    "tokenizer = AutoTokenizer.from_pretrained(\"skt/kobert-base-v1\", use_fast=False)\n",
    "\n",
    "MAX_LEN = 64\n",
    "\n",
    "class IntentSlotDataset(Dataset):\n",
    "    def __init__(self, encodings, slot_labels, intents):\n",
    "        self.encodings = encodings\n",
    "        self.slot_labels = slot_labels\n",
    "        self.intents = intents\n",
    "\n",
    "    def _mask_pad_tokens(self, slot_labels):\n",
    "        # PAD 토큰은 보통 O 또는 지정된 pad_index로 처리되어 있음\n",
    "        # 아래에서는 O의 index를 pad처럼 간주한다면 slot2idx['O']로 처리 가능\n",
    "        pad_token_label_id = slot2idx.get('PAD', slot2idx['O'])  # 혹시 PAD가 정의되어 있으면 우선\n",
    "        masked = []\n",
    "        for seq in slot_labels:\n",
    "            masked_seq = [label if label != pad_token_label_id else -100 for label in seq]\n",
    "            masked.append(masked_seq)\n",
    "        return masked\n",
    "\n",
    "    def __len__(self):\n",
    "        return len(self.intents)\n",
    "\n",
    "    def __getitem__(self, idx):\n",
    "        item = {key: torch.tensor(val[idx]) for key, val in self.encodings.items()}\n",
    "        item['labels'] = torch.tensor(self.slot_labels[idx])\n",
    "        item['intent'] = torch.tensor(self.intents[idx])\n",
    "        return item\n"
   ]
  },
  {
   "cell_type": "code",
   "source": [
    "print(df[\"intent\"].value_counts())"
   ],
   "metadata": {
    "colab": {
     "base_uri": "https://localhost:8080/"
    },
    "id": "AIRu6JZaOyJx",
    "executionInfo": {
     "status": "ok",
     "timestamp": 1753776681506,
     "user_tz": -540,
     "elapsed": 12,
     "user": {
      "displayName": "Hyun Jung Oh",
      "userId": "14841286664462358370"
     }
    },
    "outputId": "35903579-4329-415d-9f66-163b1c178957"
   },
   "id": "AIRu6JZaOyJx",
   "execution_count": 18,
   "outputs": [
    {
     "output_type": "stream",
     "name": "stdout",
     "text": [
      "intent\n",
      "parking_availability_query         534\n",
      "parking_fee_info                   492\n",
      "arrival_policy_info                468\n",
      "facility_guide                     396\n",
      "airport_weather_current            377\n",
      "departure_congestion_prediction    372\n",
      "parking_location_recommendation    352\n",
      "arrival_congestion_prediction      331\n",
      "flight_info                        308\n",
      "arrival_congestion_query           305\n",
      "parking_congestion_prediction      281\n",
      "parking_walk_time_info             146\n",
      "regular_schedule_query             115\n",
      "baggage_rule_query                 113\n",
      "departure_policy_info              110\n",
      "transfer_info                       91\n",
      "airport_info                        76\n",
      "airline_info_query                  75\n",
      "baggage_claim_info                  38\n",
      "default_greeting                    28\n",
      "transfer_route_guide                19\n",
      "Name: count, dtype: int64\n"
     ]
    }
   ]
  },
  {
   "cell_type": "code",
   "execution_count": 24,
   "id": "LGqicPqrV4J1",
   "metadata": {
    "colab": {
     "base_uri": "https://localhost:8080/"
    },
    "executionInfo": {
     "elapsed": 112,
     "status": "ok",
     "timestamp": 1753776760624,
     "user": {
      "displayName": "Hyun Jung Oh",
      "userId": "14841286664462358370"
     },
     "user_tz": -540
    },
    "id": "LGqicPqrV4J1",
    "outputId": "461ac4eb-c267-457f-dc06-53a5ee6fac05"
   },
   "outputs": [
    {
     "output_type": "stream",
     "name": "stdout",
     "text": [
      "✅ Intent 분포:\n",
      "intent\n",
      "departure_policy_info              1284\n",
      "parking_availability_query         1144\n",
      "baggage_rule_query                 1072\n",
      "flight_info                         988\n",
      "airport_info                        978\n",
      "parking_fee_info                    894\n",
      "facility_guide                      743\n",
      "parking_congestion_prediction       697\n",
      "airline_info_query                  689\n",
      "arrival_congestion_query            633\n",
      "arrival_congestion_prediction       597\n",
      "transfer_info                       596\n",
      "transfer_route_guide                587\n",
      "airport_weather_current             526\n",
      "departure_congestion_prediction     504\n",
      "regular_schedule_query              480\n",
      "baggage_claim_info                  418\n",
      "parking_location_recommendation     321\n",
      "arrival_policy_info                 316\n",
      "parking_walk_time_info              313\n",
      "default_greeting                    300\n",
      "Name: count, dtype: int64\n",
      "\n",
      "✅ Slot label 분포 (상위 20개):\n",
      "{'O': 80649, 'B-topic': 4352, 'I-topic': 2101, 'B-date': 1971, 'B-parking_type': 1584, 'B-time': 1387, 'B-parking_lot': 939, 'I-airport_name': 702, 'I-time': 691, 'B-facility_name': 656, 'B-airline_name': 617, 'B-item': 611, 'B-airport_name': 559, 'B-availability_status': 403, 'B-flight_status': 358, 'I-item': 332, 'B-season': 328, 'B-baggage_type': 323, 'B-weather_topic': 318, 'B-airline_flight': 313}\n"
     ]
    }
   ],
   "source": [
    "# 설정\n",
    "TARGET_INTENT_SAMPLES = 300\n",
    "TARGET_SLOT_SAMPLES = 300  # 희귀 slot label의 최소 등장 횟수\n",
    "\n",
    "# 먼저 intent 기준 균형 맞추기\n",
    "balanced_intent_dfs = []\n",
    "\n",
    "for intent in df_bio['intent'].unique():\n",
    "    intent_df = df_bio[df_bio['intent'] == intent]\n",
    "\n",
    "    if len(intent_df) >= TARGET_INTENT_SAMPLES:\n",
    "        sampled_df = resample(intent_df, replace=False, n_samples=TARGET_INTENT_SAMPLES, random_state=42)\n",
    "    else:\n",
    "        sampled_df = resample(intent_df, replace=True, n_samples=TARGET_INTENT_SAMPLES, random_state=42)\n",
    "\n",
    "    balanced_intent_dfs.append(sampled_df)\n",
    "\n",
    "df_balanced_intent = pd.concat(balanced_intent_dfs).reset_index(drop=True)\n",
    "\n",
    "# 슬롯 라벨 등장 횟수 계산\n",
    "slot_counter = Counter(label for labels in df_balanced_intent['labels'] for label in labels)\n",
    "\n",
    "# 부족한 슬롯 라벨 찾기\n",
    "rare_slots = [label for label, count in slot_counter.items() if count < TARGET_SLOT_SAMPLES]\n",
    "\n",
    "# 해당 rare slot을 포함하는 샘플만 추출해서 오버샘플링\n",
    "slot_augmented_dfs = []\n",
    "for rare_label in rare_slots:\n",
    "    slot_df = df_bio[df_bio['labels'].apply(lambda x: rare_label in x)]\n",
    "\n",
    "    if len(slot_df) == 0:\n",
    "        continue  # 해당 slot이 아예 없는 경우는 건너뜀\n",
    "\n",
    "    needed = TARGET_SLOT_SAMPLES - slot_counter[rare_label]\n",
    "    duplicated_df = resample(slot_df, replace=True, n_samples=needed, random_state=42)\n",
    "    slot_augmented_dfs.append(duplicated_df)\n",
    "\n",
    "# intent 기반 + slot 보완 데이터 합치기\n",
    "df_balanced = pd.concat([df_balanced_intent] + slot_augmented_dfs).reset_index(drop=True)\n",
    "\n",
    "# 결과 확인\n",
    "print(\"✅ Intent 분포:\")\n",
    "print(df_balanced['intent'].value_counts())\n",
    "\n",
    "print(\"\\n✅ Slot label 분포 (상위 20개):\")\n",
    "from collections import Counter\n",
    "slot_counter_final = Counter(label for labels in df_balanced['labels'] for label in labels)\n",
    "print(dict(sorted(slot_counter_final.items(), key=lambda x: x[1], reverse=True)[:20]))"
   ]
  },
  {
   "cell_type": "code",
   "execution_count": 25,
   "id": "2OzUKUPXuLGS",
   "metadata": {
    "executionInfo": {
     "elapsed": 25,
     "status": "ok",
     "timestamp": 1753776762340,
     "user": {
      "displayName": "Hyun Jung Oh",
      "userId": "14841286664462358370"
     },
     "user_tz": -540
    },
    "id": "2OzUKUPXuLGS"
   },
   "outputs": [],
   "source": [
    "def align_labels_with_tokenizer(tokens, labels):\n",
    "    bert_tokens = []\n",
    "    aligned_labels = []\n",
    "\n",
    "    for token, label in zip(tokens, labels):\n",
    "        sub_tokens = tokenizer.tokenize(token)\n",
    "\n",
    "        if not sub_tokens:\n",
    "            sub_tokens = [tokenizer.unk_token]\n",
    "\n",
    "        bert_tokens.extend(sub_tokens)\n",
    "\n",
    "        # 첫 sub-token에는 원래 라벨 사용\n",
    "        aligned_labels.append(label)\n",
    "\n",
    "        # 나머지 sub-token에 대해서는 label 확장\n",
    "        for _ in range(1, len(sub_tokens)):\n",
    "            if label == \"O\":\n",
    "                aligned_labels.append(\"O\")\n",
    "            elif label.startswith(\"B-\"):\n",
    "                aligned_labels.append(\"I-\" + label[2:])\n",
    "            elif label.startswith(\"I-\"):\n",
    "                aligned_labels.append(label)\n",
    "            else:\n",
    "                # 예외 처리: label이 'B-', 'I-', 'O' 중 아무 것도 아닐 경우\n",
    "                aligned_labels.append(\"O\")\n",
    "\n",
    "    assert len(bert_tokens) == len(aligned_labels), f\"Mismatch: {bert_tokens} vs {aligned_labels}\"\n",
    "    return bert_tokens, aligned_labels\n"
   ]
  },
  {
   "cell_type": "code",
   "execution_count": 26,
   "id": "8ec4dcf5",
   "metadata": {
    "executionInfo": {
     "elapsed": 2638,
     "status": "ok",
     "timestamp": 1753776765191,
     "user": {
      "displayName": "Hyun Jung Oh",
      "userId": "14841286664462358370"
     },
     "user_tz": -540
    },
    "id": "8ec4dcf5"
   },
   "outputs": [],
   "source": [
    "def encode_data(df):\n",
    "    input_ids, attention_masks, slot_label_ids, intent_ids = [], [], [], []\n",
    "\n",
    "    for _, row in df.iterrows():\n",
    "        tokens = row[\"tokens\"]\n",
    "        labels = row[\"labels\"]\n",
    "\n",
    "        bert_tokens, aligned_labels = align_labels_with_tokenizer(tokens, labels)\n",
    "        label_ids = [slot2idx[label] for label in aligned_labels]\n",
    "\n",
    "        if len(bert_tokens) > MAX_LEN - 2:\n",
    "            bert_tokens = bert_tokens[:MAX_LEN-2]\n",
    "            label_ids = label_ids[:MAX_LEN-2]\n",
    "\n",
    "        tokens_input = ['[CLS]'] + bert_tokens + ['[SEP]']\n",
    "        label_ids = [slot2idx['O']] + label_ids + [slot2idx['O']]\n",
    "\n",
    "        input_id = tokenizer.convert_tokens_to_ids(tokens_input)\n",
    "        attention_mask = [1] * len(input_id)\n",
    "\n",
    "        pad_len = MAX_LEN - len(input_id)\n",
    "        input_id += [0] * pad_len\n",
    "        attention_mask += [0] * pad_len\n",
    "        label_ids += [slot2idx['O']] * pad_len\n",
    "\n",
    "        input_ids.append(input_id)\n",
    "        attention_masks.append(attention_mask)\n",
    "        slot_label_ids.append(label_ids)\n",
    "        intent_ids.append(intent2idx[row[\"intent\"]])\n",
    "\n",
    "    encodings = {\n",
    "        \"input_ids\": input_ids,\n",
    "        \"attention_mask\": attention_masks\n",
    "    }\n",
    "    return encodings, slot_label_ids, intent_ids\n",
    "\n",
    "# ✅ Train / Val split\n",
    "train_df, val_df = train_test_split(df_balanced, test_size=0.1, stratify=df_balanced['intent'])\n",
    "\n",
    "# ✅ Encode\n",
    "train_encodings, train_slot_labels, train_intents = encode_data(train_df)\n",
    "val_encodings, val_slot_labels, val_intents = encode_data(val_df)\n",
    "\n",
    "# ✅ Dataset / DataLoader\n",
    "train_dataset = IntentSlotDataset(train_encodings, train_slot_labels, train_intents)\n",
    "val_dataset = IntentSlotDataset(val_encodings, val_slot_labels, val_intents)\n",
    "\n",
    "train_loader = DataLoader(train_dataset, batch_size=16, shuffle=True)\n",
    "val_loader = DataLoader(val_dataset, batch_size=16)\n"
   ]
  },
  {
   "cell_type": "code",
   "source": [
    "from collections import Counter\n",
    "import torch\n",
    "\n",
    "device = torch.device(\"cuda\" if torch.cuda.is_available() else \"cpu\")\n",
    "\n",
    "# 전체 slot label 모으기 (train_dataset 기준)\n",
    "all_slot_labels = [\n",
    "    label for data in train_dataset\n",
    "    for label in data['labels'].tolist()\n",
    "    if label != -100\n",
    "]\n",
    "\n",
    "slot_counts = Counter(all_slot_labels)\n",
    "total = sum(slot_counts.values())\n",
    "\n",
    "# slot2idx 기준으로 weight 생성\n",
    "slot_weights = []\n",
    "for idx in range(len(slot2idx)):\n",
    "    count = slot_counts.get(idx, 0)\n",
    "    if count == 0:\n",
    "        slot_weights.append(0.0)  # 안 쓰인 경우 0\n",
    "    else:\n",
    "        slot_weights.append(1.0 / count)\n",
    "\n",
    "slot_weights = torch.tensor(slot_weights).float().to(device)"
   ],
   "metadata": {
    "id": "KohMCMpxh0_k",
    "executionInfo": {
     "status": "ok",
     "timestamp": 1753777134018,
     "user_tz": -540,
     "elapsed": 768,
     "user": {
      "displayName": "Hyun Jung Oh",
      "userId": "14841286664462358370"
     }
    }
   },
   "id": "KohMCMpxh0_k",
   "execution_count": 42,
   "outputs": []
  },
  {
   "cell_type": "code",
   "source": [
    "print(f\"Slot label 개수: {len(slot2idx)}\")\n",
    "print(f\"slot_weights shape: {slot_weights.shape}\")\n",
    "slot_weights"
   ],
   "metadata": {
    "colab": {
     "base_uri": "https://localhost:8080/"
    },
    "id": "vt52PCI6QSuB",
    "executionInfo": {
     "status": "ok",
     "timestamp": 1753778224751,
     "user_tz": -540,
     "elapsed": 106,
     "user": {
      "displayName": "Hyun Jung Oh",
      "userId": "14841286664462358370"
     }
    },
    "outputId": "86c0c03a-23cc-4444-9a0f-da341846fdb5"
   },
   "id": "vt52PCI6QSuB",
   "execution_count": 49,
   "outputs": [
    {
     "output_type": "stream",
     "name": "stdout",
     "text": [
      "Slot label 개수: 63\n",
      "slot_weights shape: torch.Size([63])\n"
     ]
    },
    {
     "output_type": "execute_result",
     "data": {
      "text/plain": [
       "tensor([3.5211e-03, 1.8349e-03, 3.6232e-03, 1.9920e-03, 3.6900e-03, 2.7855e-03,\n",
       "        3.4602e-03, 5.6211e-04, 3.6630e-03, 3.7453e-03, 3.7037e-03, 3.7736e-03,\n",
       "        1.7301e-03, 3.0769e-03, 3.7037e-03, 1.8248e-03, 3.7453e-03, 3.6232e-03,\n",
       "        3.5971e-03, 3.7037e-03, 1.1834e-03, 7.0028e-04, 3.6765e-03, 3.7037e-03,\n",
       "        3.4014e-03, 3.7313e-03, 7.9681e-04, 2.5562e-04, 3.7037e-03, 3.7736e-03,\n",
       "        3.4843e-03, 1.1990e-03, 1.4535e-03, 1.9685e-03, 4.3422e-04, 3.6900e-03,\n",
       "        4.0816e-03, 7.7519e-03, 6.7159e-04, 1.8692e-03, 3.7453e-03, 3.7037e-03,\n",
       "        3.7736e-03, 7.4516e-04, 1.4286e-01, 0.0000e+00, 7.1480e-04, 3.7453e-03,\n",
       "        2.7473e-03, 2.0661e-03, 3.2895e-03, 5.9952e-04, 0.0000e+00, 3.3333e-02,\n",
       "        0.0000e+00, 3.8462e-02, 3.7313e-03, 7.9554e-04, 1.2547e-04, 1.8519e-03,\n",
       "        0.0000e+00, 3.0769e-03, 1.2997e-06], device='cuda:0')"
      ]
     },
     "metadata": {},
     "execution_count": 49
    }
   ]
  },
  {
   "cell_type": "code",
   "execution_count": 44,
   "id": "oUXgoCngx-GP",
   "metadata": {
    "colab": {
     "base_uri": "https://localhost:8080/"
    },
    "executionInfo": {
     "elapsed": 14,
     "status": "ok",
     "timestamp": 1753777136100,
     "user": {
      "displayName": "Hyun Jung Oh",
      "userId": "14841286664462358370"
     },
     "user_tz": -540
    },
    "id": "oUXgoCngx-GP",
    "outputId": "6e4d3a48-cab6-4bd8-b10b-c0970a38b78b"
   },
   "outputs": [
    {
     "output_type": "stream",
     "name": "stdout",
     "text": [
      "🧾 Original Tokens: ['VS5501의', '정기편', '코드는', '무엇인가요']\n",
      "🔖 Labels: ['O', 'B-topic', 'O', 'O']\n",
      "🧠 BERT Tokens: ['▁V', 'S', '55', '01', '의', '▁정기', '편', '▁코', '드는', '▁무', '엇', '인', '가', '요']\n",
      "📦 Tokens after adding [CLS]/[SEP]: [2, 697, 343, 183, 82, 7095, 4096, 7720, 4665, 5921, 2095, 6884, 7119, 5330, 6999, 3, 0, 0, 0, 0, 0, 0, 0, 0, 0, 0, 0, 0, 0, 0, 0, 0, 0, 0, 0, 0, 0, 0, 0, 0, 0, 0, 0, 0, 0, 0, 0, 0, 0, 0, 0, 0, 0, 0, 0, 0, 0, 0, 0, 0, 0, 0, 0, 0]\n",
      "🧱 Attention Mask: [1, 1, 1, 1, 1, 1, 1, 1, 1, 1, 1, 1, 1, 1, 1, 1, 0, 0, 0, 0, 0, 0, 0, 0, 0, 0, 0, 0, 0, 0, 0, 0, 0, 0, 0, 0, 0, 0, 0, 0, 0, 0, 0, 0, 0, 0, 0, 0, 0, 0, 0, 0, 0, 0, 0, 0, 0, 0, 0, 0, 0, 0, 0, 0]\n",
      "🎯 Intent: 18\n"
     ]
    }
   ],
   "source": [
    "# ✅ 🔍 디버깅 출력 (encode_data 밖에 위치)\n",
    "sample_idx = 6\n",
    "print(\"🧾 Original Tokens:\", train_df.iloc[sample_idx]['tokens'])\n",
    "print(\"🔖 Labels:\", train_df.iloc[sample_idx]['labels'])\n",
    "print(\"🧠 BERT Tokens:\", tokenizer.tokenize(\" \".join(train_df.iloc[sample_idx]['tokens'])))\n",
    "print(\"📦 Tokens after adding [CLS]/[SEP]:\", train_encodings['input_ids'][sample_idx])\n",
    "print(\"🧱 Attention Mask:\", train_encodings['attention_mask'][sample_idx])\n",
    "print(\"🎯 Intent:\", train_intents[sample_idx])"
   ]
  },
  {
   "cell_type": "code",
   "source": [
    "from collections import Counter\n",
    "\n",
    "all_slot_labels = []\n",
    "for data in train_dataset:\n",
    "    all_slot_labels.extend(data['labels'].tolist())\n",
    "\n",
    "label_counts = Counter(all_slot_labels)\n",
    "total = sum(label_counts.values())\n",
    "for label_id, count in label_counts.items():\n",
    "    label_name = list(slot2idx.keys())[list(slot2idx.values()).index(label_id)]\n",
    "    print(f\"{label_name:10s}: {count:5d} ({count/total:.2%})\")\n"
   ],
   "metadata": {
    "colab": {
     "base_uri": "https://localhost:8080/"
    },
    "id": "CRiF7Q7Bkrks",
    "executionInfo": {
     "status": "ok",
     "timestamp": 1753777138346,
     "user_tz": -540,
     "elapsed": 884,
     "user": {
      "displayName": "Hyun Jung Oh",
      "userId": "14841286664462358370"
     }
    },
    "outputId": "845124df-39d2-48c7-e787-57bd25e6f78f"
   },
   "id": "CRiF7Q7Bkrks",
   "execution_count": 46,
   "outputs": [
    {
     "output_type": "stream",
     "name": "stdout",
     "text": [
      "O         : 769395 (94.87%)\n",
      "B-topic   :  3912 (0.48%)\n",
      "I-topic   :  7970 (0.98%)\n",
      "B-facility_name:   578 (0.07%)\n",
      "I-facility_name:  1342 (0.17%)\n",
      "B-item    :   548 (0.07%)\n",
      "I-item    :  1399 (0.17%)\n",
      "B-date    :  1779 (0.22%)\n",
      "I-date    :  1489 (0.18%)\n",
      "B-parking_type:  1428 (0.18%)\n",
      "B-parking_area:   270 (0.03%)\n",
      "I-parking_area:   304 (0.04%)\n",
      "B-terminal:   268 (0.03%)\n",
      "I-terminal:   268 (0.03%)\n",
      "B-airline_name:   545 (0.07%)\n",
      "I-airline_name:   688 (0.08%)\n",
      "B-time    :  1255 (0.15%)\n",
      "B-flight_status:   325 (0.04%)\n",
      "B-parking_lot:   845 (0.10%)\n",
      "I-parking_lot:  1668 (0.21%)\n",
      "B-airport_name:   502 (0.06%)\n",
      "I-airport_name:  2303 (0.28%)\n",
      "I-time    :  1257 (0.15%)\n",
      "B-gate    :   270 (0.03%)\n",
      "B-organization:   278 (0.03%)\n",
      "I-organization:   484 (0.06%)\n",
      "B-person_type:   270 (0.03%)\n",
      "B-weather_topic:   287 (0.04%)\n",
      "I-weather_topic:   325 (0.04%)\n",
      "B-payment_method:   272 (0.03%)\n",
      "B-departure_type:   267 (0.03%)\n",
      "I-departure_type:   267 (0.03%)\n",
      "B-vehicle_type:   265 (0.03%)\n",
      "B-baggage_type:   289 (0.04%)\n",
      "B-availability_status:   359 (0.04%)\n",
      "I-availability_status:   245 (0.03%)\n",
      "B-transfer_topic:   270 (0.03%)\n",
      "I-transfer_topic:   540 (0.07%)\n",
      "B-luggage_term:   276 (0.03%)\n",
      "I-luggage_term:   364 (0.04%)\n",
      "B-day_of_week:   273 (0.03%)\n",
      "I-day_of_week:   535 (0.07%)\n",
      "B-airport_code:   276 (0.03%)\n",
      "I-airport_code:   508 (0.06%)\n",
      "B-document:   265 (0.03%)\n",
      "I-document:   265 (0.03%)\n",
      "B-season  :   294 (0.04%)\n",
      "B-airline_flight:   284 (0.04%)\n",
      "I-airline_flight:   834 (0.10%)\n",
      "B-location_keyword:   267 (0.03%)\n",
      "I-location_keyword:   267 (0.03%)\n",
      "B-destination:   270 (0.03%)\n",
      "I-destination:   270 (0.03%)\n",
      "B-arrival_type:   271 (0.03%)\n",
      "I-arrival_type:   271 (0.03%)\n",
      "I-baggage_type:   129 (0.02%)\n",
      "I-season  :    26 (0.00%)\n",
      "I-payment_method:    30 (0.00%)\n",
      "I-flight_status:     7 (0.00%)\n"
     ]
    }
   ]
  },
  {
   "cell_type": "code",
   "source": [],
   "metadata": {
    "id": "TSz99X9TU5si"
   },
   "id": "TSz99X9TU5si",
   "execution_count": null,
   "outputs": []
  },
  {
   "cell_type": "code",
   "execution_count": 50,
   "id": "69054996",
   "metadata": {
    "executionInfo": {
     "elapsed": 495,
     "status": "ok",
     "timestamp": 1753778602525,
     "user": {
      "displayName": "Hyun Jung Oh",
      "userId": "14841286664462358370"
     },
     "user_tz": -540
    },
    "id": "69054996"
   },
   "outputs": [],
   "source": [
    "from intent_classifier.config import SAVE_PATH\n",
    "from sklearn.metrics import classification_report, accuracy_score\n",
    "from torch.nn import CrossEntropyLoss\n",
    "import torch\n",
    "from tqdm import tqdm\n",
    "import pickle\n",
    "import os\n",
    "\n",
    "\n",
    "model = KoBERTIntentSlotModel(len(intent2idx), len(slot2idx)).to(device)\n",
    "optimizer = AdamW(model.parameters(), lr=5e-5)\n",
    "intent_loss_fn = CrossEntropyLoss()\n",
    "slot_loss_fn = nn.CrossEntropyLoss(weight=slot_weights.to(device))\n",
    "\n",
    "best_val_intent_acc = 0\n",
    "best_report = None\n",
    "save_path = SAVE_PATH\n",
    "os.makedirs(save_path, exist_ok=True)\n",
    "\n",
    "def train_epoch(dataloader):\n",
    "    model.train()\n",
    "    total_loss = 0\n",
    "    for batch in tqdm(dataloader, desc=\"🛠️ Training\"):\n",
    "        input_ids = batch['input_ids'].to(device)\n",
    "        attention_mask = batch['attention_mask'].to(device)\n",
    "        slot_labels = batch['labels'].to(device)\n",
    "        intent_label = batch['intent'].to(device)\n",
    "\n",
    "        optimizer.zero_grad()\n",
    "        intent_logits, slot_logits = model(input_ids, attention_mask)\n",
    "\n",
    "        loss_intent = intent_loss_fn(intent_logits, intent_label)\n",
    "        loss_slot = slot_loss_fn(slot_logits.view(-1, len(slot2idx)), slot_labels.view(-1))\n",
    "        loss = loss_intent + loss_slot\n",
    "\n",
    "        loss.backward()\n",
    "        optimizer.step()\n",
    "        total_loss += loss.item()\n",
    "    return total_loss / len(dataloader)\n",
    "\n",
    "\n",
    "def evaluate(dataloader):\n",
    "    model.eval()\n",
    "    intent_preds, intent_trues = [], []\n",
    "    slot_preds, slot_trues = [], []\n",
    "\n",
    "    with torch.no_grad():\n",
    "        for batch in tqdm(dataloader, desc=\"🔍 Validating\"):\n",
    "            input_ids = batch['input_ids'].to(device)\n",
    "            attention_mask = batch['attention_mask'].to(device)\n",
    "            slot_labels = batch['labels'].to(device)\n",
    "            intent_label = batch['intent'].to(device)\n",
    "\n",
    "            intent_logits, slot_logits = model(input_ids, attention_mask)\n",
    "            intent_pred = torch.argmax(intent_logits, dim=1)\n",
    "\n",
    "            # 인텐트 정확도용\n",
    "            intent_preds.extend(intent_pred.cpu().numpy())\n",
    "            intent_trues.extend(intent_label.cpu().numpy())\n",
    "\n",
    "            # 슬롯 정확도용\n",
    "            slot_pred = torch.argmax(slot_logits, dim=2)\n",
    "            for i in range(slot_labels.size(0)):\n",
    "                true_seq = slot_labels[i].cpu().tolist()\n",
    "                pred_seq = slot_pred[i].cpu().tolist()\n",
    "                for t, p in zip(true_seq, pred_seq):\n",
    "                    if t != -100:  # PAD 제거\n",
    "                        slot_trues.append(t)\n",
    "                        slot_preds.append(p)\n",
    "\n",
    "    # 🔢 인텐트 결과\n",
    "    intent_acc = accuracy_score(intent_trues, intent_preds)\n",
    "    intent_report = classification_report(\n",
    "        intent_trues,\n",
    "        intent_preds,\n",
    "        target_names=idx2intent.values(),\n",
    "        zero_division=0\n",
    "    )\n",
    "\n",
    "    # 🔢 슬롯 결과 (support > 0인 라벨만 포함)\n",
    "    support_counter = Counter(slot_trues)\n",
    "    nonzero_labels = [i for i in slot2idx.values() if support_counter[i] > 0]\n",
    "    target_names_nonzero = [key for key, val in slot2idx.items() if val in nonzero_labels]\n",
    "\n",
    "    slot_acc = accuracy_score(slot_trues, slot_preds)\n",
    "    slot_report = classification_report(\n",
    "        slot_trues,\n",
    "        slot_preds,\n",
    "        labels=nonzero_labels,\n",
    "        target_names=target_names_nonzero,\n",
    "        zero_division=0\n",
    "    )\n",
    "\n",
    "    return intent_acc, intent_report, slot_acc, slot_report\n"
   ]
  },
  {
   "cell_type": "code",
   "execution_count": 51,
   "id": "7de0556b",
   "metadata": {
    "colab": {
     "base_uri": "https://localhost:8080/"
    },
    "executionInfo": {
     "elapsed": 798995,
     "status": "ok",
     "timestamp": 1753779403297,
     "user": {
      "displayName": "Hyun Jung Oh",
      "userId": "14841286664462358370"
     },
     "user_tz": -540
    },
    "id": "7de0556b",
    "outputId": "61cd4545-11bb-4f50-aea8-eae1cd7d9cc3"
   },
   "outputs": [
    {
     "output_type": "stream",
     "name": "stdout",
     "text": [
      "\n",
      "📚 Epoch 1\n"
     ]
    },
    {
     "output_type": "stream",
     "name": "stderr",
     "text": [
      "🛠️ Training: 100%|██████████| 792/792 [02:34<00:00,  5.11it/s]\n"
     ]
    },
    {
     "output_type": "stream",
     "name": "stdout",
     "text": [
      "📉 Train Loss: 1.7840\n"
     ]
    },
    {
     "output_type": "stream",
     "name": "stderr",
     "text": [
      "🔍 Validating: 100%|██████████| 88/88 [00:05<00:00, 17.33it/s]\n"
     ]
    },
    {
     "output_type": "stream",
     "name": "stdout",
     "text": [
      "🎯 Val Intent Accuracy: 0.9709\n",
      "🏷 Val Slot Accuracy: 0.8115\n",
      "✅ Best model saved!\n",
      "\n",
      "📚 Epoch 2\n"
     ]
    },
    {
     "output_type": "stream",
     "name": "stderr",
     "text": [
      "🛠️ Training: 100%|██████████| 792/792 [02:33<00:00,  5.15it/s]\n"
     ]
    },
    {
     "output_type": "stream",
     "name": "stdout",
     "text": [
      "📉 Train Loss: 0.1656\n"
     ]
    },
    {
     "output_type": "stream",
     "name": "stderr",
     "text": [
      "🔍 Validating: 100%|██████████| 88/88 [00:05<00:00, 17.27it/s]\n"
     ]
    },
    {
     "output_type": "stream",
     "name": "stdout",
     "text": [
      "🎯 Val Intent Accuracy: 0.9702\n",
      "🏷 Val Slot Accuracy: 0.8916\n",
      "✅ Best model saved!\n",
      "\n",
      "📚 Epoch 3\n"
     ]
    },
    {
     "output_type": "stream",
     "name": "stderr",
     "text": [
      "🛠️ Training: 100%|██████████| 792/792 [02:33<00:00,  5.15it/s]\n"
     ]
    },
    {
     "output_type": "stream",
     "name": "stdout",
     "text": [
      "📉 Train Loss: 0.0880\n"
     ]
    },
    {
     "output_type": "stream",
     "name": "stderr",
     "text": [
      "🔍 Validating: 100%|██████████| 88/88 [00:05<00:00, 17.26it/s]\n"
     ]
    },
    {
     "output_type": "stream",
     "name": "stdout",
     "text": [
      "🎯 Val Intent Accuracy: 0.9844\n",
      "🏷 Val Slot Accuracy: 0.9394\n",
      "✅ Best model saved!\n",
      "\n",
      "📚 Epoch 4\n"
     ]
    },
    {
     "output_type": "stream",
     "name": "stderr",
     "text": [
      "🛠️ Training: 100%|██████████| 792/792 [02:33<00:00,  5.15it/s]\n"
     ]
    },
    {
     "output_type": "stream",
     "name": "stdout",
     "text": [
      "📉 Train Loss: 0.0742\n"
     ]
    },
    {
     "output_type": "stream",
     "name": "stderr",
     "text": [
      "🔍 Validating: 100%|██████████| 88/88 [00:05<00:00, 17.28it/s]\n"
     ]
    },
    {
     "output_type": "stream",
     "name": "stdout",
     "text": [
      "🎯 Val Intent Accuracy: 0.9879\n",
      "🏷 Val Slot Accuracy: 0.9426\n",
      "✅ Best model saved!\n",
      "\n",
      "📚 Epoch 5\n"
     ]
    },
    {
     "output_type": "stream",
     "name": "stderr",
     "text": [
      "🛠️ Training: 100%|██████████| 792/792 [02:33<00:00,  5.15it/s]\n"
     ]
    },
    {
     "output_type": "stream",
     "name": "stdout",
     "text": [
      "📉 Train Loss: 0.0714\n"
     ]
    },
    {
     "output_type": "stream",
     "name": "stderr",
     "text": [
      "🔍 Validating: 100%|██████████| 88/88 [00:05<00:00, 17.23it/s]\n"
     ]
    },
    {
     "output_type": "stream",
     "name": "stdout",
     "text": [
      "🎯 Val Intent Accuracy: 0.9503\n",
      "🏷 Val Slot Accuracy: 0.9212\n",
      "\n",
      "📈 Best Intent Accuracy: 0.9879261363636364\n",
      "📊 Best Intent Classification Report:\n",
      "                                  precision    recall  f1-score   support\n",
      "\n",
      "             airline_info_query       1.00      1.00      1.00        69\n",
      "                   airport_info       1.00      1.00      1.00        98\n",
      "        airport_weather_current       1.00      1.00      1.00        53\n",
      "  arrival_congestion_prediction       1.00      1.00      1.00        60\n",
      "       arrival_congestion_query       0.98      0.97      0.98        63\n",
      "            arrival_policy_info       0.94      0.91      0.92        32\n",
      "             baggage_claim_info       0.95      1.00      0.98        42\n",
      "             baggage_rule_query       1.00      0.99      1.00       107\n",
      "               default_greeting       1.00      1.00      1.00        30\n",
      "departure_congestion_prediction       1.00      0.98      0.99        50\n",
      "          departure_policy_info       0.98      1.00      0.99       128\n",
      "                 facility_guide       1.00      0.99      0.99        74\n",
      "                    flight_info       1.00      1.00      1.00        99\n",
      "     parking_availability_query       0.98      0.95      0.96       114\n",
      "  parking_congestion_prediction       0.92      0.97      0.94        70\n",
      "               parking_fee_info       1.00      1.00      1.00        89\n",
      "parking_location_recommendation       1.00      1.00      1.00        32\n",
      "         parking_walk_time_info       1.00      1.00      1.00        31\n",
      "         regular_schedule_query       1.00      1.00      1.00        48\n",
      "                  transfer_info       1.00      0.98      0.99        60\n",
      "           transfer_route_guide       0.97      1.00      0.98        59\n",
      "\n",
      "                       accuracy                           0.99      1408\n",
      "                      macro avg       0.99      0.99      0.99      1408\n",
      "                   weighted avg       0.99      0.99      0.99      1408\n",
      "\n",
      "\n",
      "📈 Best Slot Accuracy: 0.942626953125\n",
      "📊 Best Slot Classification Report:\n",
      "                        precision    recall  f1-score   support\n",
      "\n",
      "     B-airline_flight       0.31      1.00      0.48        29\n",
      "       B-airline_name       0.92      1.00      0.96        72\n",
      "       B-airport_code       0.62      1.00      0.76        24\n",
      "       B-airport_name       0.68      1.00      0.81        57\n",
      "       B-arrival_type       0.71      1.00      0.83        29\n",
      "B-availability_status       0.11      1.00      0.20        44\n",
      "       B-baggage_type       0.59      1.00      0.74        34\n",
      "               B-date       0.74      1.00      0.85       192\n",
      "        B-day_of_week       0.45      1.00      0.62        30\n",
      "     B-departure_type       0.89      1.00      0.94        33\n",
      "        B-destination       1.00      1.00      1.00        30\n",
      "           B-document       0.16      1.00      0.28        35\n",
      "      B-facility_name       0.44      1.00      0.61        78\n",
      "      B-flight_status       0.27      1.00      0.42        33\n",
      "               B-gate       0.22      1.00      0.36        30\n",
      "               B-item       0.49      1.00      0.66        63\n",
      "   B-location_keyword       1.00      1.00      1.00        33\n",
      "       B-luggage_term       0.32      1.00      0.48        30\n",
      "       B-organization       0.96      1.00      0.98        24\n",
      "       B-parking_area       0.19      1.00      0.32        30\n",
      "        B-parking_lot       0.77      0.94      0.84        94\n",
      "       B-parking_type       0.97      1.00      0.98       156\n",
      "     B-payment_method       0.37      1.00      0.54        28\n",
      "        B-person_type       0.50      1.00      0.67        30\n",
      "             B-season       0.41      1.00      0.59        34\n",
      "           B-terminal       1.00      1.00      1.00        32\n",
      "               B-time       0.51      1.00      0.67       132\n",
      "              B-topic       0.43      0.93      0.59       440\n",
      "     B-transfer_topic       1.00      1.00      1.00        30\n",
      "       B-vehicle_type       1.00      1.00      1.00        35\n",
      "      B-weather_topic       0.14      1.00      0.25        31\n",
      "     I-airline_flight       0.34      1.00      0.51        86\n",
      "       I-airline_name       0.42      1.00      0.59        97\n",
      "       I-airport_code       0.64      1.00      0.78        45\n",
      "       I-airport_name       0.59      1.00      0.74       267\n",
      "       I-arrival_type       0.76      1.00      0.87        29\n",
      "I-availability_status       0.84      1.00      0.91        26\n",
      "       I-baggage_type       0.51      1.00      0.68        21\n",
      "               I-date       0.95      1.00      0.98       168\n",
      "        I-day_of_week       0.84      1.00      0.91        58\n",
      "     I-departure_type       0.87      1.00      0.93        33\n",
      "        I-destination       0.91      1.00      0.95        30\n",
      "           I-document       0.21      1.00      0.34        35\n",
      "      I-facility_name       0.40      1.00      0.57       188\n",
      "               I-item       0.84      1.00      0.91       169\n",
      "   I-location_keyword       1.00      1.00      1.00        33\n",
      "       I-luggage_term       0.35      1.00      0.52        50\n",
      "       I-organization       0.82      1.00      0.90        42\n",
      "       I-parking_area       0.18      1.00      0.31        38\n",
      "        I-parking_lot       0.83      0.95      0.88       186\n",
      "           I-terminal       0.91      1.00      0.96        32\n",
      "               I-time       0.46      1.00      0.63       135\n",
      "              I-topic       0.41      0.95      0.57       914\n",
      "     I-transfer_topic       0.98      1.00      0.99        60\n",
      "      I-weather_topic       0.48      0.97      0.64        40\n",
      "                    O       1.00      0.94      0.97     85358\n",
      "\n",
      "            micro avg       0.94      0.94      0.94     90112\n",
      "            macro avg       0.62      0.99      0.72     90112\n",
      "         weighted avg       0.98      0.94      0.96     90112\n",
      "\n"
     ]
    }
   ],
   "source": [
    "EPOCHS = 5\n",
    "train_losses = []\n",
    "val_intent_accuracies = []\n",
    "val_slot_accuracies = []\n",
    "\n",
    "best_val_slot_acc = 0\n",
    "best_intent_report = \"\"\n",
    "best_slot_report = \"\"\n",
    "\n",
    "for epoch in range(EPOCHS):\n",
    "    print(f\"\\n📚 Epoch {epoch+1}\")\n",
    "    train_loss = train_epoch(train_loader)\n",
    "    train_losses.append(train_loss)\n",
    "    print(f\"📉 Train Loss: {train_loss:.4f}\")\n",
    "\n",
    "    val_intent_acc, intent_report, val_slot_acc, slot_report = evaluate(val_loader)\n",
    "    val_intent_accuracies.append(val_intent_acc)\n",
    "    val_slot_accuracies.append(val_slot_acc)\n",
    "    print(f\"🎯 Val Intent Accuracy: {val_intent_acc:.4f}\")\n",
    "    print(f\"🏷 Val Slot Accuracy: {val_slot_acc:.4f}\")\n",
    "\n",
    "    # ✅ 인텐트 + 슬롯 기준 모두 개선 시 저장\n",
    "    if val_intent_acc > best_val_intent_acc or val_slot_acc > best_val_slot_acc:\n",
    "        best_val_intent_acc = max(best_val_intent_acc, val_intent_acc)\n",
    "        best_val_slot_acc = max(best_val_slot_acc, val_slot_acc)\n",
    "        best_intent_report = intent_report\n",
    "        best_slot_report = slot_report\n",
    "\n",
    "        torch.save(model.state_dict(), os.path.join(save_path, \"best_model.pt\"))\n",
    "        with open(os.path.join(save_path, \"intent2idx.pkl\"), \"wb\") as f:\n",
    "            pickle.dump(intent2idx, f)\n",
    "        with open(os.path.join(save_path, \"slot2idx.pkl\"), \"wb\") as f:\n",
    "            pickle.dump(slot2idx, f)\n",
    "        print(\"✅ Best model saved!\")\n",
    "\n",
    "# 🔚 학습 완료 후 최종 성능 출력\n",
    "print(\"\\n📈 Best Intent Accuracy:\", best_val_intent_acc)\n",
    "print(\"📊 Best Intent Classification Report:\\n\", best_intent_report)\n",
    "print(\"\\n📈 Best Slot Accuracy:\", best_val_slot_acc)\n",
    "print(\"📊 Best Slot Classification Report:\\n\", best_slot_report)\n"
   ]
  },
  {
   "cell_type": "code",
   "source": [
    "from intent_classifier.config import SLOT2IDX_PATH\n",
    "import pickle\n",
    "\n",
    "with open(SLOT2IDX_PATH, \"rb\") as f:\n",
    "    slot2idx = pickle.load(f)\n",
    "    print(slot2idx)\n",
    "    print(len(slot2idx))"
   ],
   "metadata": {
    "colab": {
     "base_uri": "https://localhost:8080/"
    },
    "id": "dKUZOy__px47",
    "executionInfo": {
     "status": "ok",
     "timestamp": 1753779487905,
     "user_tz": -540,
     "elapsed": 8,
     "user": {
      "displayName": "Hyun Jung Oh",
      "userId": "14841286664462358370"
     }
    },
    "outputId": "2cff12b9-8bf0-4e32-f6b5-ced2b96cd9d2"
   },
   "id": "dKUZOy__px47",
   "execution_count": 52,
   "outputs": [
    {
     "output_type": "stream",
     "name": "stdout",
     "text": [
      "{'B-airline_flight': 0, 'B-airline_name': 1, 'B-airport_code': 2, 'B-airport_name': 3, 'B-arrival_type': 4, 'B-availability_status': 5, 'B-baggage_type': 6, 'B-date': 7, 'B-day_of_week': 8, 'B-departure_type': 9, 'B-destination': 10, 'B-document': 11, 'B-facility_name': 12, 'B-flight_status': 13, 'B-gate': 14, 'B-item': 15, 'B-location_keyword': 16, 'B-luggage_term': 17, 'B-organization': 18, 'B-parking_area': 19, 'B-parking_lot': 20, 'B-parking_type': 21, 'B-payment_method': 22, 'B-person_type': 23, 'B-season': 24, 'B-terminal': 25, 'B-time': 26, 'B-topic': 27, 'B-transfer_topic': 28, 'B-vehicle_type': 29, 'B-weather_topic': 30, 'I-airline_flight': 31, 'I-airline_name': 32, 'I-airport_code': 33, 'I-airport_name': 34, 'I-arrival_type': 35, 'I-availability_status': 36, 'I-baggage_type': 37, 'I-date': 38, 'I-day_of_week': 39, 'I-departure_type': 40, 'I-destination': 41, 'I-document': 42, 'I-facility_name': 43, 'I-flight_status': 44, 'I-gate': 45, 'I-item': 46, 'I-location_keyword': 47, 'I-luggage_term': 48, 'I-organization': 49, 'I-parking_area': 50, 'I-parking_lot': 51, 'I-parking_type': 52, 'I-payment_method': 53, 'I-person_type': 54, 'I-season': 55, 'I-terminal': 56, 'I-time': 57, 'I-topic': 58, 'I-transfer_topic': 59, 'I-vehicle_type': 60, 'I-weather_topic': 61, 'O': 62}\n",
      "63\n"
     ]
    }
   ]
  },
  {
   "cell_type": "code",
   "execution_count": 60,
   "id": "6eANrSDadoWO",
   "metadata": {
    "colab": {
     "base_uri": "https://localhost:8080/",
     "height": 507
    },
    "executionInfo": {
     "elapsed": 386,
     "status": "ok",
     "timestamp": 1753779751415,
     "user": {
      "displayName": "Hyun Jung Oh",
      "userId": "14841286664462358370"
     },
     "user_tz": -540
    },
    "id": "6eANrSDadoWO",
    "outputId": "a04c9cef-bdc4-4aa6-81ff-9e298452a65c"
   },
   "outputs": [
    {
     "output_type": "stream",
     "name": "stderr",
     "text": [
      "/tmp/ipython-input-60-3411075516.py:23: UserWarning: Glyph 128202 (\\N{BAR CHART}) missing from font(s) DejaVu Sans.\n",
      "  plt.tight_layout()\n"
     ]
    },
    {
     "output_type": "display_data",
     "data": {
      "text/plain": [
       "<Figure size 1000x500 with 2 Axes>"
      ],
      "image/png": "[encoded data removed]"
     },
     "metadata": {}
    }
   ],
   "source": [
    "fig, ax1 = plt.subplots(figsize=(10, 5))\n",
    "\n",
    "# 왼쪽 Y축: Train Loss\n",
    "ax1.plot(range(1, EPOCHS+1), train_losses, color='blue', label='Train Loss')\n",
    "ax1.set_xlabel('Epoch')\n",
    "ax1.set_ylabel('Loss', color='blue')\n",
    "ax1.tick_params(axis='y', labelcolor='blue')\n",
    "\n",
    "# 오른쪽 Y축: Accuracy\n",
    "ax2 = ax1.twinx()\n",
    "ax2.plot(range(1, EPOCHS+1), val_intent_accuracies, color='orange', label='Intent Accuracy')\n",
    "ax2.plot(range(1, EPOCHS+1), val_slot_accuracies, color='green', label='Slot Accuracy')\n",
    "ax2.set_ylabel('Accuracy', color='green')\n",
    "ax2.tick_params(axis='y', labelcolor='green')\n",
    "\n",
    "# 범례 처리\n",
    "lines1, labels1 = ax1.get_legend_handles_labels()\n",
    "lines2, labels2 = ax2.get_legend_handles_labels()\n",
    "ax1.legend(lines1 + lines2, labels1 + labels2, loc='lower center')\n",
    "\n",
    "plt.title('📊 Training Loss (Left) and Accuracy (Right) over Epochs')\n",
    "plt.grid(True)\n",
    "plt.tight_layout()\n",
    "plt.show()\n"
   ]
  },
  {
   "cell_type": "code",
   "execution_count": 61,
   "id": "oym377wZgyjK",
   "metadata": {
    "colab": {
     "base_uri": "https://localhost:8080/",
     "height": 997
    },
    "id": "oym377wZgyjK",
    "outputId": "04e4b4c6-d5fe-44a2-d878-f98c7ef7dc17",
    "executionInfo": {
     "status": "error",
     "timestamp": 1753779780340,
     "user_tz": -540,
     "elapsed": 23380,
     "user": {
      "displayName": "Hyun Jung Oh",
      "userId": "14841286664462358370"
     }
    }
   },
   "outputs": [
    {
     "output_type": "stream",
     "name": "stdout",
     "text": [
      "✨ KoBERT 기반 인텐트/슬롯 예측기입니다.\n",
      "\n",
      "✉️ 입력 (exit 입력 시 종료): 주차장 혼잡도\n",
      "\n",
      "🔍 예측된 인텐트 TOP 3:\n",
      " 1. parking_congestion_prediction (0.5256)\n",
      " 2. parking_availability_query (0.4490)\n",
      " 3. parking_location_recommendation (0.0188)\n",
      "\n",
      "🎯 슬롯 태깅 결과:\n",
      " - 주차장: B-topic\n",
      " - 혼잡도: I-topic\n",
      "\n",
      "✉️ 입력 (exit 입력 시 종료): 정기 항공편\n",
      "\n",
      "🔍 예측된 인텐트 TOP 3:\n",
      " 1. regular_schedule_query (0.9988)\n",
      " 2. transfer_route_guide (0.0003)\n",
      " 3. flight_info (0.0002)\n",
      "\n",
      "🎯 슬롯 태깅 결과:\n",
      " - 정기: B-topic\n",
      " - 항공편: I-topic\n",
      "\n",
      "✉️ 입력 (exit 입력 시 종료): KE607\n",
      "\n",
      "🔍 예측된 인텐트 TOP 3:\n",
      " 1. flight_info (0.9984)\n",
      " 2. arrival_congestion_query (0.0004)\n",
      " 3. airport_info (0.0002)\n",
      "\n",
      "🎯 슬롯 태깅 결과:\n",
      " - KE607: B-airline_flight\n"
     ]
    },
    {
     "output_type": "error",
     "ename": "KeyboardInterrupt",
     "evalue": "Interrupted by user",
     "traceback": [
      "\u001B[0;31m---------------------------------------------------------------------------\u001B[0m",
      "\u001B[0;31mKeyboardInterrupt\u001B[0m                         Traceback (most recent call last)",
      "\u001B[0;32m/tmp/ipython-input-61-4016431354.py\u001B[0m in \u001B[0;36m<cell line: 0>\u001B[0;34m()\u001B[0m\n\u001B[1;32m    116\u001B[0m     \u001B[0mprint\u001B[0m\u001B[0;34m(\u001B[0m\u001B[0;34m\"✨ KoBERT 기반 인텐트/슬롯 예측기입니다.\"\u001B[0m\u001B[0;34m)\u001B[0m\u001B[0;34m\u001B[0m\u001B[0;34m\u001B[0m\u001B[0m\n\u001B[1;32m    117\u001B[0m     \u001B[0;32mwhile\u001B[0m \u001B[0;32mTrue\u001B[0m\u001B[0;34m:\u001B[0m\u001B[0;34m\u001B[0m\u001B[0;34m\u001B[0m\u001B[0m\n\u001B[0;32m--> 118\u001B[0;31m         \u001B[0mtext\u001B[0m \u001B[0;34m=\u001B[0m \u001B[0minput\u001B[0m\u001B[0;34m(\u001B[0m\u001B[0;34m\"\\n✉️ 입력 (exit 입력 시 종료): \"\u001B[0m\u001B[0;34m)\u001B[0m\u001B[0;34m.\u001B[0m\u001B[0mstrip\u001B[0m\u001B[0;34m(\u001B[0m\u001B[0;34m)\u001B[0m\u001B[0;34m\u001B[0m\u001B[0;34m\u001B[0m\u001B[0m\n\u001B[0m\u001B[1;32m    119\u001B[0m         \u001B[0;32mif\u001B[0m \u001B[0mtext\u001B[0m\u001B[0;34m.\u001B[0m\u001B[0mlower\u001B[0m\u001B[0;34m(\u001B[0m\u001B[0;34m)\u001B[0m \u001B[0;34m==\u001B[0m \u001B[0;34m\"exit\"\u001B[0m\u001B[0;34m:\u001B[0m\u001B[0;34m\u001B[0m\u001B[0;34m\u001B[0m\u001B[0m\n\u001B[1;32m    120\u001B[0m             \u001B[0mprint\u001B[0m\u001B[0;34m(\u001B[0m\u001B[0;34m\"👋 종료합니다.\"\u001B[0m\u001B[0;34m)\u001B[0m\u001B[0;34m\u001B[0m\u001B[0;34m\u001B[0m\u001B[0m\n",
      "\u001B[0;32m/usr/local/lib/python3.11/dist-packages/ipykernel/kernelbase.py\u001B[0m in \u001B[0;36mraw_input\u001B[0;34m(self, prompt)\u001B[0m\n\u001B[1;32m   1175\u001B[0m                 \u001B[0;34m\"raw_input was called, but this frontend does not support input requests.\"\u001B[0m\u001B[0;34m\u001B[0m\u001B[0;34m\u001B[0m\u001B[0m\n\u001B[1;32m   1176\u001B[0m             )\n\u001B[0;32m-> 1177\u001B[0;31m         return self._input_request(\n\u001B[0m\u001B[1;32m   1178\u001B[0m             \u001B[0mstr\u001B[0m\u001B[0;34m(\u001B[0m\u001B[0mprompt\u001B[0m\u001B[0;34m)\u001B[0m\u001B[0;34m,\u001B[0m\u001B[0;34m\u001B[0m\u001B[0;34m\u001B[0m\u001B[0m\n\u001B[1;32m   1179\u001B[0m             \u001B[0mself\u001B[0m\u001B[0;34m.\u001B[0m\u001B[0m_parent_ident\u001B[0m\u001B[0;34m[\u001B[0m\u001B[0;34m\"shell\"\u001B[0m\u001B[0;34m]\u001B[0m\u001B[0;34m,\u001B[0m\u001B[0;34m\u001B[0m\u001B[0;34m\u001B[0m\u001B[0m\n",
      "\u001B[0;32m/usr/local/lib/python3.11/dist-packages/ipykernel/kernelbase.py\u001B[0m in \u001B[0;36m_input_request\u001B[0;34m(self, prompt, ident, parent, password)\u001B[0m\n\u001B[1;32m   1217\u001B[0m             \u001B[0;32mexcept\u001B[0m \u001B[0mKeyboardInterrupt\u001B[0m\u001B[0;34m:\u001B[0m\u001B[0;34m\u001B[0m\u001B[0;34m\u001B[0m\u001B[0m\n\u001B[1;32m   1218\u001B[0m                 \u001B[0;31m# re-raise KeyboardInterrupt, to truncate traceback\u001B[0m\u001B[0;34m\u001B[0m\u001B[0;34m\u001B[0m\u001B[0m\n\u001B[0;32m-> 1219\u001B[0;31m                 \u001B[0;32mraise\u001B[0m \u001B[0mKeyboardInterrupt\u001B[0m\u001B[0;34m(\u001B[0m\u001B[0;34m\"Interrupted by user\"\u001B[0m\u001B[0;34m)\u001B[0m \u001B[0;32mfrom\u001B[0m \u001B[0;32mNone\u001B[0m\u001B[0;34m\u001B[0m\u001B[0;34m\u001B[0m\u001B[0m\n\u001B[0m\u001B[1;32m   1220\u001B[0m             \u001B[0;32mexcept\u001B[0m \u001B[0mException\u001B[0m\u001B[0;34m:\u001B[0m\u001B[0;34m\u001B[0m\u001B[0;34m\u001B[0m\u001B[0m\n\u001B[1;32m   1221\u001B[0m                 \u001B[0mself\u001B[0m\u001B[0;34m.\u001B[0m\u001B[0mlog\u001B[0m\u001B[0;34m.\u001B[0m\u001B[0mwarning\u001B[0m\u001B[0;34m(\u001B[0m\u001B[0;34m\"Invalid Message:\"\u001B[0m\u001B[0;34m,\u001B[0m \u001B[0mexc_info\u001B[0m\u001B[0;34m=\u001B[0m\u001B[0;32mTrue\u001B[0m\u001B[0;34m)\u001B[0m\u001B[0;34m\u001B[0m\u001B[0;34m\u001B[0m\u001B[0m\n",
      "\u001B[0;31mKeyboardInterrupt\u001B[0m: Interrupted by user"
     ]
    }
   ],
   "source": [
    "from intent_classifier.config import INTENT2IDX_PATH, MODEL_PATH\n",
    "import torch\n",
    "import torch.nn as nn\n",
    "from torch.nn.functional import softmax\n",
    "from transformers import BertModel, AutoTokenizer\n",
    "import pickle\n",
    "\n",
    "# ✅ 인덱스 맵 로딩\n",
    "with open(INTENT2IDX_PATH, \"rb\") as f:\n",
    "    intent2idx = pickle.load(f)\n",
    "with open(SLOT2IDX_PATH, \"rb\") as f:\n",
    "    slot2idx = pickle.load(f)\n",
    "\n",
    "idx2intent = {v: k for k, v in intent2idx.items()}\n",
    "idx2slot = {v: k for k, v in slot2idx.items()}\n",
    "\n",
    "# ✅ 모델 로드\n",
    "model = KoBERTIntentSlotModel(num_intents=len(intent2idx), num_slots=len(slot2idx))\n",
    "model.load_state_dict(torch.load(MODEL_PATH, map_location=device))\n",
    "model.to(device)\n",
    "model.eval()\n",
    "\n",
    "\n",
    "# 🧱 토큰 → 단어 병합 + 슬롯 정렬\n",
    "def merge_tokens_and_slots(tokens, slot_ids, idx2slot):\n",
    "    merged = []\n",
    "    word = ''\n",
    "    current_slot = ''\n",
    "\n",
    "    for token, slot_id in zip(tokens, slot_ids):\n",
    "        slot = idx2slot.get(slot_id, 'O')\n",
    "\n",
    "        if token in ['[CLS]', '[SEP]', '[PAD]']:\n",
    "            continue\n",
    "\n",
    "        if token.startswith(\"▁\"):  # 새 단어 시작\n",
    "            if word:\n",
    "                merged.append((word, current_slot))\n",
    "            word = token[1:]\n",
    "            current_slot = slot\n",
    "        else:\n",
    "            word += token.replace(\"▁\", \"\")\n",
    "\n",
    "    if word:\n",
    "        merged.append((word, current_slot))\n",
    "\n",
    "    return merged\n",
    "\n",
    "\n",
    "# 🔮 예측 함수\n",
    "def predict_top_k_intents_and_slots(text, k=3):\n",
    "    encoding = tokenizer(\n",
    "        text,\n",
    "        return_tensors='pt',\n",
    "        truncation=True,\n",
    "        padding='max_length',\n",
    "        max_length=64\n",
    "    )\n",
    "    input_ids = encoding[\"input_ids\"].to(device)\n",
    "    attention_mask = encoding[\"attention_mask\"].to(device)\n",
    "\n",
    "    with torch.no_grad():\n",
    "        intent_logits, slot_logits = model(input_ids, attention_mask)\n",
    "        intent_probs = softmax(intent_logits, dim=1)\n",
    "\n",
    "        # 토큰 디버깅용\n",
    "        # for i, logit in enumerate(slot_logits[0]):\n",
    "        #   top_id = logit.argmax().item()\n",
    "        #   top_slot = idx2slot[top_id]\n",
    "        #   print(f\"{i}번째 토큰 → {top_slot} ({logit[top_id].item():.4f})\")\n",
    "\n",
    "        # 🎯 인텐트 예측 (Top-k)\n",
    "        topk_probs, topk_indices = torch.topk(intent_probs, k, dim=1)\n",
    "        intents = [(idx2intent[idx.item()], prob.item()) for idx, prob in zip(topk_indices[0], topk_probs[0])]\n",
    "\n",
    "        # 🎯 슬롯 예측\n",
    "        slot_pred_ids = torch.argmax(slot_logits, dim=2)[0].tolist()\n",
    "        tokens = tokenizer.convert_ids_to_tokens(input_ids[0])\n",
    "\n",
    "        merged = merge_tokens_and_slots(tokens, slot_pred_ids, idx2slot)\n",
    "\n",
    "    return intents, merged\n",
    "\n",
    "\n",
    "# 🧪 실행 루프\n",
    "if __name__ == \"__main__\":\n",
    "    print(\"✨ KoBERT 기반 인텐트/슬롯 예측기입니다.\")\n",
    "    while True:\n",
    "        text = input(\"\\n✉️ 입력 (exit 입력 시 종료): \").strip()\n",
    "        if text.lower() == \"exit\":\n",
    "            print(\"👋 종료합니다.\")\n",
    "            break\n",
    "\n",
    "        intents, slots = predict_top_k_intents_and_slots(text, k=3)\n",
    "\n",
    "        print(\"\\n🔍 예측된 인텐트 TOP 3:\")\n",
    "        for i, (intent, prob) in enumerate(intents, 1):\n",
    "            print(f\" {i}. {intent} ({prob:.4f})\")\n",
    "\n",
    "        print(\"\\n🎯 슬롯 태깅 결과:\")\n",
    "        for word, slot in slots:\n",
    "            print(f\" - {word}: {slot}\")\n"
   ]
  },
  {
   "cell_type": "markdown",
   "source": [],
   "metadata": {
    "id": "niz6FsslXNwF"
   },
   "id": "niz6FsslXNwF"
  }
 ],
 "metadata": {
  "accelerator": "GPU",
  "colab": {
   "gpuType": "T4",
   "machine_shape": "hm",
   "provenance": []
  },
  "kernelspec": {
   "display_name": "Python 3",
   "name": "python3"
  }
 },
 "nbformat": 4,
 "nbformat_minor": 5
}
