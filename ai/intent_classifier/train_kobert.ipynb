{
 "cells": [
  {
   "cell_type": "markdown",
   "id": "92f5b622",
   "metadata": {
    "id": "92f5b622"
   },
   "source": [
    "# 🧠 KoBERT Intent Classification - 실험용"
   ]
  },
  {
   "cell_type": "code",
   "id": "bc3d7a21",
   "metadata": {
    "ExecuteTime": {
     "end_time": "2025-07-23T00:58:22.451657Z",
     "start_time": "2025-07-23T00:58:14.551228Z"
    },
    "id": "bc3d7a21",
    "executionInfo": {
     "status": "ok",
     "timestamp": 1753252805050,
     "user_tz": -540,
     "elapsed": 42,
     "user": {
      "displayName": "Hyun Jung Oh",
      "userId": "14841286664462358370"
     }
    }
   },
   "source": [
    "import torch\n",
    "import torch.nn as nn\n",
    "from torch.nn.functional import softmax\n",
    "from torch.utils.data import DataLoader, Dataset\n",
    "from transformers import BertModel, BertTokenizer, logging as transformers_logging\n",
    "from transformers import AutoTokenizer\n",
    "import pandas as pd\n",
    "from sklearn.preprocessing import LabelEncoder\n",
    "from sklearn.model_selection import train_test_split\n",
    "from sklearn.metrics import accuracy_score\n",
    "from tqdm import tqdm\n",
    "import matplotlib.pyplot as plt\n",
    "import pickle\n",
    "from sklearn.utils import resample\n",
    "\n",
    "transformers_logging.set_verbosity_error()"
   ],
   "outputs": [],
   "execution_count": 8
  },
  {
   "cell_type": "code",
   "id": "1430d5d5",
   "metadata": {
    "ExecuteTime": {
     "end_time": "2025-07-23T01:03:34.400220Z",
     "start_time": "2025-07-23T01:03:34.387219Z"
    },
    "id": "1430d5d5",
    "executionInfo": {
     "status": "ok",
     "timestamp": 1753252806133,
     "user_tz": -540,
     "elapsed": 5,
     "user": {
      "displayName": "Hyun Jung Oh",
      "userId": "14841286664462358370"
     }
    }
   },
   "source": [
    "class IntentDataset(Dataset):\n",
    "    def __init__(self, df, tokenizer, label_encoder, max_len=64):\n",
    "        self.sentences = df['question'].tolist()\n",
    "        self.labels = label_encoder.transform(df['intent'].tolist())\n",
    "        self.tokenizer = tokenizer\n",
    "        self.max_len = max_len\n",
    "\n",
    "    def __len__(self):\n",
    "        return len(self.sentences)\n",
    "\n",
    "    def __getitem__(self, idx):\n",
    "        encoding = self.tokenizer(\n",
    "            self.sentences[idx],\n",
    "            truncation=True,\n",
    "            padding='max_length',\n",
    "            max_length=self.max_len,\n",
    "            return_tensors='pt'\n",
    "        )\n",
    "        return {\n",
    "            'input_ids': encoding['input_ids'].squeeze(0),\n",
    "            'attention_mask': encoding['attention_mask'].squeeze(0),\n",
    "            'label': torch.tensor(self.labels[idx], dtype=torch.long)\n",
    "        }\n",
    "\n",
    "class KoBERTClassifier(nn.Module):\n",
    "    def __init__(self, num_labels):\n",
    "        super(KoBERTClassifier, self).__init__()\n",
    "        self.bert = BertModel.from_pretrained(\"skt/kobert-base-v1\")\n",
    "        self.dropout = nn.Dropout(0.3)\n",
    "        self.classifier = nn.Linear(self.bert.config.hidden_size, num_labels)\n",
    "\n",
    "    def forward(self, input_ids, attention_mask):\n",
    "        outputs = self.bert(input_ids=input_ids, attention_mask=attention_mask)\n",
    "        pooled_output = outputs.pooler_output\n",
    "        output = self.dropout(pooled_output)\n",
    "        return self.classifier(output)"
   ],
   "outputs": [],
   "execution_count": 9
  },
  {
   "cell_type": "code",
   "id": "3bd1856a",
   "metadata": {
    "ExecuteTime": {
     "end_time": "2025-07-23T01:03:39.558353Z",
     "start_time": "2025-07-23T01:03:39.223476Z"
    },
    "colab": {
     "base_uri": "https://localhost:8080/"
    },
    "id": "3bd1856a",
    "executionInfo": {
     "status": "ok",
     "timestamp": 1753254090219,
     "user_tz": -540,
     "elapsed": 971,
     "user": {
      "displayName": "Hyun Jung Oh",
      "userId": "14841286664462358370"
     }
    },
    "outputId": "f44c86b3-c84b-40da-9be4-3563d82359b9"
   },
   "source": [
    "# 1. 원본 데이터 + 키워드 보강 데이터 불러오기\n",
    "df_original = pd.read_csv(\"intent_dataset_cleaned.csv\")\n",
    "df_extra = pd.read_csv(\"keyword_boost.csv\")  # 반드시 포함하고 싶은 키워드 문장 모음\n",
    "\n",
    "df_combined = pd.concat([df_original, df_extra]).reset_index(drop=True)\n",
    "\n",
    "# 2. 인텐트별로 균형 조정\n",
    "TARGET_SAMPLES = 200\n",
    "balanced_dfs = []\n",
    "\n",
    "for intent in df_combined['intent'].unique():\n",
    "    all_intent_df = df_combined[df_combined['intent'] == intent]\n",
    "    extra_intent_df = df_extra[df_extra['intent'] == intent]\n",
    "\n",
    "    num_extra = len(extra_intent_df)\n",
    "    num_to_sample = max(0, TARGET_SAMPLES - num_extra)\n",
    "\n",
    "    remaining_df = all_intent_df.drop(extra_intent_df.index, errors='ignore')\n",
    "\n",
    "    if len(remaining_df) >= num_to_sample:\n",
    "        sampled_df = resample(remaining_df, replace=False, n_samples=num_to_sample, random_state=42)\n",
    "    else:\n",
    "        sampled_df = resample(remaining_df, replace=True, n_samples=num_to_sample, random_state=42)\n",
    "\n",
    "    combined = pd.concat([sampled_df, extra_intent_df])\n",
    "    balanced_dfs.append(combined)\n",
    "\n",
    "# 3. 전체 데이터셋 통합\n",
    "df_balanced = pd.concat(balanced_dfs).reset_index(drop=True)\n",
    "\n",
    "# 4. 라벨 인코딩 및 분할\n",
    "label_encoder = LabelEncoder()\n",
    "label_encoder.fit(df_balanced['intent'])\n",
    "\n",
    "train_df, val_df = train_test_split(\n",
    "    df_balanced, test_size=0.2, stratify=df_balanced['intent'], random_state=42\n",
    ")\n",
    "\n",
    "# 5. 토크나이저 및 데이터셋 생성\n",
    "tokenizer = AutoTokenizer.from_pretrained(\"skt/kobert-base-v1\", use_fast=False)\n",
    "\n",
    "train_dataset = IntentDataset(train_df, tokenizer, label_encoder)\n",
    "val_dataset = IntentDataset(val_df, tokenizer, label_encoder)\n",
    "\n",
    "train_loader = DataLoader(train_dataset, batch_size=16, shuffle=True)\n",
    "val_loader = DataLoader(val_dataset, batch_size=16)\n",
    "\n",
    "# 6. 분포 확인\n",
    "print(\"✅ Balanced class distribution:\")\n",
    "print(df_balanced['intent'].value_counts())"
   ],
   "outputs": [
    {
     "output_type": "stream",
     "name": "stdout",
     "text": [
      "✅ Balanced class distribution:\n",
      "intent\n",
      "arrival_congestion_query           200\n",
      "departure_congestion_prediction    200\n",
      "arrival_congestion_prediction      200\n",
      "airport_weather_current            200\n",
      "facility_guide                     200\n",
      "airline_info_query                 200\n",
      "arrival_policy_info                200\n",
      "baggage_claim_info                 200\n",
      "baggage_rule_query                 200\n",
      "departure_policy_info              200\n",
      "regular_schedule_query             200\n",
      "parking_availability_query         200\n",
      "parking_fee_info                   200\n",
      "parking_location_recommendation    200\n",
      "flight_info                        200\n",
      "parking_query                      200\n",
      "parking_congestion_prediction      200\n",
      "transfer_info                      200\n",
      "transfer_route_guide               200\n",
      "default_greeting                   200\n",
      "parking_walk_time_info             200\n",
      "Name: count, dtype: int64\n"
     ]
    }
   ],
   "execution_count": 33
  },
  {
   "cell_type": "markdown",
   "source": [],
   "metadata": {
    "id": "WfQaNBuhBe7W"
   },
   "id": "WfQaNBuhBe7W"
  },
  {
   "cell_type": "code",
   "id": "a77c0faf",
   "metadata": {
    "ExecuteTime": {
     "end_time": "2025-07-23T01:03:51.296277Z",
     "start_time": "2025-07-23T01:03:48.244758Z"
    },
    "id": "a77c0faf",
    "executionInfo": {
     "status": "ok",
     "timestamp": 1753254096145,
     "user_tz": -540,
     "elapsed": 1176,
     "user": {
      "displayName": "Hyun Jung Oh",
      "userId": "14841286664462358370"
     }
    }
   },
   "source": [
    "device = torch.device(\"cuda\" if torch.cuda.is_available() else \"cpu\")\n",
    "model = KoBERTClassifier(num_labels=len(label_encoder.classes_)).to(device)\n",
    "\n",
    "optimizer = torch.optim.AdamW(model.parameters(), lr=2e-5)\n",
    "criterion = nn.CrossEntropyLoss()"
   ],
   "outputs": [],
   "execution_count": 35
  },
  {
   "cell_type": "code",
   "source": [
    "print(df_balanced.columns.tolist())"
   ],
   "metadata": {
    "colab": {
     "base_uri": "https://localhost:8080/"
    },
    "id": "D_kjuNl1EttX",
    "executionInfo": {
     "status": "ok",
     "timestamp": 1753254093577,
     "user_tz": -540,
     "elapsed": 6,
     "user": {
      "displayName": "Hyun Jung Oh",
      "userId": "14841286664462358370"
     }
    },
    "outputId": "bd5933c3-30fc-4fcd-9af4-26cd9a21b5cf"
   },
   "id": "D_kjuNl1EttX",
   "execution_count": 34,
   "outputs": [
    {
     "output_type": "stream",
     "name": "stdout",
     "text": [
      "['intent', 'question']\n"
     ]
    }
   ]
  },
  {
   "cell_type": "code",
   "id": "203150e8",
   "metadata": {
    "jupyter": {
     "is_executing": true
    },
    "ExecuteTime": {
     "start_time": "2025-07-23T01:03:53.324159Z"
    },
    "id": "203150e8",
    "outputId": "09283342-8e21-4103-a4d5-a54e220f87c5",
    "colab": {
     "base_uri": "https://localhost:8080/"
    },
    "executionInfo": {
     "status": "ok",
     "timestamp": 1753254529519,
     "user_tz": -540,
     "elapsed": 429915,
     "user": {
      "displayName": "Hyun Jung Oh",
      "userId": "14841286664462358370"
     }
    }
   },
   "source": [
    "import torch\n",
    "from torch.nn.functional import softmax\n",
    "from sklearn.metrics import accuracy_score, classification_report\n",
    "from tqdm import tqdm\n",
    "import pickle\n",
    "\n",
    "# 성능 추적용 리스트\n",
    "train_losses = []\n",
    "val_accuracies = []\n",
    "val_confidences = []\n",
    "\n",
    "best_acc = 0\n",
    "EPOCHS = 10\n",
    "\n",
    "for epoch in range(EPOCHS):\n",
    "    model.train()\n",
    "    total_loss = 0\n",
    "\n",
    "    for batch in tqdm(train_loader, desc=f\"🛠️ Training Epoch {epoch+1}\"):\n",
    "        input_ids = batch['input_ids'].to(device)\n",
    "        attention_mask = batch['attention_mask'].to(device)\n",
    "        labels = batch['label'].to(device)\n",
    "\n",
    "        logits = model(input_ids, attention_mask)\n",
    "        loss = criterion(logits, labels)\n",
    "\n",
    "        optimizer.zero_grad()\n",
    "        loss.backward()\n",
    "        torch.nn.utils.clip_grad_norm_(model.parameters(), max_norm=1.0)  # Gradient clipping\n",
    "        optimizer.step()\n",
    "\n",
    "        total_loss += loss.item()\n",
    "\n",
    "    avg_train_loss = total_loss / len(train_loader)\n",
    "    train_losses.append(avg_train_loss)\n",
    "    print(f\"📚 Epoch {epoch+1} Loss: {avg_train_loss:.4f}\")\n",
    "\n",
    "    # 🎯 검증\n",
    "    model.eval()\n",
    "    preds, targets, confs_all = [], [], []\n",
    "\n",
    "    with torch.no_grad():\n",
    "        for batch in tqdm(val_loader, desc=\"🔍 Validating\"):\n",
    "            input_ids = batch['input_ids'].to(device)\n",
    "            attention_mask = batch['attention_mask'].to(device)\n",
    "            labels = batch['label'].to(device)\n",
    "\n",
    "            logits = model(input_ids, attention_mask)\n",
    "            probs = softmax(logits, dim=1)\n",
    "            confs, predicted = torch.max(probs, 1)\n",
    "\n",
    "            preds.extend(predicted.cpu().numpy())\n",
    "            targets.extend(labels.cpu().numpy())\n",
    "            confs_all.extend(confs.cpu().numpy())\n",
    "\n",
    "    acc = accuracy_score(targets, preds)\n",
    "    avg_conf = sum(confs_all) / len(confs_all)\n",
    "    val_accuracies.append(acc)\n",
    "    val_confidences.append(avg_conf)\n",
    "\n",
    "    print(f\"🎯 Val Acc: {acc:.4f} | 🔍 Avg Confidence: {avg_conf:.4f}\")\n",
    "\n",
    "    if acc > best_acc:\n",
    "        best_acc = acc\n",
    "        torch.save(model.state_dict(), \"best_models/intent-kobert-v1/best_kobert_model.pt\")\n",
    "        print(f\"✅ Best model saved! Acc: {acc:.4f}\")\n",
    "        best_report = classification_report(targets, preds,\n",
    "                                            target_names=label_encoder.classes_,\n",
    "                                            zero_division=0)\n",
    "\n",
    "# 💾 최종 best 결과 출력\n",
    "print(f\"\\n📈 Best Validation Accuracy: {best_acc:.4f}\")\n",
    "print(\"📊 Classification Report for Best Model:\")\n",
    "print(best_report)\n",
    "\n",
    "# 라벨 인코더도 함께 저장\n",
    "with open(\"best_models/intent-kobert-v1/label_encoder.pkl\", \"wb\") as f:\n",
    "    pickle.dump(label_encoder, f)\n",
    "print(\"🔖 Label encoder saved.\")\n"
   ],
   "outputs": [
    {
     "output_type": "stream",
     "name": "stderr",
     "text": [
      "🛠️ Training Epoch 1: 100%|██████████| 210/210 [00:42<00:00,  4.95it/s]\n"
     ]
    },
    {
     "output_type": "stream",
     "name": "stdout",
     "text": [
      "📚 Epoch 1 Loss: 2.3888\n"
     ]
    },
    {
     "output_type": "stream",
     "name": "stderr",
     "text": [
      "🔍 Validating: 100%|██████████| 53/53 [00:02<00:00, 18.10it/s]\n"
     ]
    },
    {
     "output_type": "stream",
     "name": "stdout",
     "text": [
      "🎯 Val Acc: 0.8310 | 🔍 Avg Confidence: 0.2722\n",
      "✅ Best model saved! Acc: 0.8310\n"
     ]
    },
    {
     "output_type": "stream",
     "name": "stderr",
     "text": [
      "🛠️ Training Epoch 2: 100%|██████████| 210/210 [00:38<00:00,  5.40it/s]\n"
     ]
    },
    {
     "output_type": "stream",
     "name": "stdout",
     "text": [
      "📚 Epoch 2 Loss: 0.9905\n"
     ]
    },
    {
     "output_type": "stream",
     "name": "stderr",
     "text": [
      "🔍 Validating: 100%|██████████| 53/53 [00:02<00:00, 17.74it/s]\n"
     ]
    },
    {
     "output_type": "stream",
     "name": "stdout",
     "text": [
      "🎯 Val Acc: 0.9440 | 🔍 Avg Confidence: 0.6545\n",
      "✅ Best model saved! Acc: 0.9440\n"
     ]
    },
    {
     "output_type": "stream",
     "name": "stderr",
     "text": [
      "🛠️ Training Epoch 3: 100%|██████████| 210/210 [00:39<00:00,  5.27it/s]\n"
     ]
    },
    {
     "output_type": "stream",
     "name": "stdout",
     "text": [
      "📚 Epoch 3 Loss: 0.3642\n"
     ]
    },
    {
     "output_type": "stream",
     "name": "stderr",
     "text": [
      "🔍 Validating: 100%|██████████| 53/53 [00:02<00:00, 17.75it/s]\n"
     ]
    },
    {
     "output_type": "stream",
     "name": "stdout",
     "text": [
      "🎯 Val Acc: 0.9643 | 🔍 Avg Confidence: 0.8728\n",
      "✅ Best model saved! Acc: 0.9643\n"
     ]
    },
    {
     "output_type": "stream",
     "name": "stderr",
     "text": [
      "🛠️ Training Epoch 4: 100%|██████████| 210/210 [00:39<00:00,  5.35it/s]\n"
     ]
    },
    {
     "output_type": "stream",
     "name": "stdout",
     "text": [
      "📚 Epoch 4 Loss: 0.1667\n"
     ]
    },
    {
     "output_type": "stream",
     "name": "stderr",
     "text": [
      "🔍 Validating: 100%|██████████| 53/53 [00:02<00:00, 17.87it/s]\n"
     ]
    },
    {
     "output_type": "stream",
     "name": "stdout",
     "text": [
      "🎯 Val Acc: 0.9655 | 🔍 Avg Confidence: 0.9453\n",
      "✅ Best model saved! Acc: 0.9655\n"
     ]
    },
    {
     "output_type": "stream",
     "name": "stderr",
     "text": [
      "🛠️ Training Epoch 5: 100%|██████████| 210/210 [00:39<00:00,  5.33it/s]\n"
     ]
    },
    {
     "output_type": "stream",
     "name": "stdout",
     "text": [
      "📚 Epoch 5 Loss: 0.1073\n"
     ]
    },
    {
     "output_type": "stream",
     "name": "stderr",
     "text": [
      "🔍 Validating: 100%|██████████| 53/53 [00:02<00:00, 17.79it/s]\n"
     ]
    },
    {
     "output_type": "stream",
     "name": "stdout",
     "text": [
      "🎯 Val Acc: 0.9571 | 🔍 Avg Confidence: 0.9679\n"
     ]
    },
    {
     "output_type": "stream",
     "name": "stderr",
     "text": [
      "🛠️ Training Epoch 6: 100%|██████████| 210/210 [00:39<00:00,  5.32it/s]\n"
     ]
    },
    {
     "output_type": "stream",
     "name": "stdout",
     "text": [
      "📚 Epoch 6 Loss: 0.0822\n"
     ]
    },
    {
     "output_type": "stream",
     "name": "stderr",
     "text": [
      "🔍 Validating: 100%|██████████| 53/53 [00:02<00:00, 17.77it/s]\n"
     ]
    },
    {
     "output_type": "stream",
     "name": "stdout",
     "text": [
      "🎯 Val Acc: 0.9679 | 🔍 Avg Confidence: 0.9789\n",
      "✅ Best model saved! Acc: 0.9679\n"
     ]
    },
    {
     "output_type": "stream",
     "name": "stderr",
     "text": [
      "🛠️ Training Epoch 7: 100%|██████████| 210/210 [00:39<00:00,  5.33it/s]\n"
     ]
    },
    {
     "output_type": "stream",
     "name": "stdout",
     "text": [
      "📚 Epoch 7 Loss: 0.0634\n"
     ]
    },
    {
     "output_type": "stream",
     "name": "stderr",
     "text": [
      "🔍 Validating: 100%|██████████| 53/53 [00:02<00:00, 17.81it/s]\n"
     ]
    },
    {
     "output_type": "stream",
     "name": "stdout",
     "text": [
      "🎯 Val Acc: 0.9595 | 🔍 Avg Confidence: 0.9862\n"
     ]
    },
    {
     "output_type": "stream",
     "name": "stderr",
     "text": [
      "🛠️ Training Epoch 8: 100%|██████████| 210/210 [00:39<00:00,  5.33it/s]\n"
     ]
    },
    {
     "output_type": "stream",
     "name": "stdout",
     "text": [
      "📚 Epoch 8 Loss: 0.0515\n"
     ]
    },
    {
     "output_type": "stream",
     "name": "stderr",
     "text": [
      "🔍 Validating: 100%|██████████| 53/53 [00:02<00:00, 17.83it/s]\n"
     ]
    },
    {
     "output_type": "stream",
     "name": "stdout",
     "text": [
      "🎯 Val Acc: 0.9619 | 🔍 Avg Confidence: 0.9855\n"
     ]
    },
    {
     "output_type": "stream",
     "name": "stderr",
     "text": [
      "🛠️ Training Epoch 9: 100%|██████████| 210/210 [00:39<00:00,  5.33it/s]\n"
     ]
    },
    {
     "output_type": "stream",
     "name": "stdout",
     "text": [
      "📚 Epoch 9 Loss: 0.0438\n"
     ]
    },
    {
     "output_type": "stream",
     "name": "stderr",
     "text": [
      "🔍 Validating: 100%|██████████| 53/53 [00:02<00:00, 17.83it/s]\n"
     ]
    },
    {
     "output_type": "stream",
     "name": "stdout",
     "text": [
      "🎯 Val Acc: 0.9583 | 🔍 Avg Confidence: 0.9905\n"
     ]
    },
    {
     "output_type": "stream",
     "name": "stderr",
     "text": [
      "🛠️ Training Epoch 10: 100%|██████████| 210/210 [00:39<00:00,  5.33it/s]\n"
     ]
    },
    {
     "output_type": "stream",
     "name": "stdout",
     "text": [
      "📚 Epoch 10 Loss: 0.0418\n"
     ]
    },
    {
     "output_type": "stream",
     "name": "stderr",
     "text": [
      "🔍 Validating: 100%|██████████| 53/53 [00:02<00:00, 17.84it/s]"
     ]
    },
    {
     "output_type": "stream",
     "name": "stdout",
     "text": [
      "🎯 Val Acc: 0.9643 | 🔍 Avg Confidence: 0.9919\n",
      "\n",
      "📈 Best Validation Accuracy: 0.9679\n",
      "📊 Classification Report for Best Model:\n",
      "                                 precision    recall  f1-score   support\n",
      "\n",
      "             airline_info_query       1.00      1.00      1.00        40\n",
      "        airport_weather_current       1.00      1.00      1.00        40\n",
      "  arrival_congestion_prediction       0.91      1.00      0.95        40\n",
      "       arrival_congestion_query       1.00      0.88      0.93        40\n",
      "            arrival_policy_info       0.95      0.93      0.94        40\n",
      "             baggage_claim_info       0.95      1.00      0.98        40\n",
      "             baggage_rule_query       0.90      0.93      0.91        40\n",
      "               default_greeting       1.00      1.00      1.00        40\n",
      "departure_congestion_prediction       0.98      1.00      0.99        40\n",
      "          departure_policy_info       1.00      0.93      0.96        40\n",
      "                 facility_guide       0.97      0.97      0.97        40\n",
      "                    flight_info       1.00      1.00      1.00        40\n",
      "     parking_availability_query       0.81      0.95      0.87        40\n",
      "  parking_congestion_prediction       0.97      0.80      0.88        40\n",
      "               parking_fee_info       1.00      1.00      1.00        40\n",
      "parking_location_recommendation       0.97      0.97      0.97        40\n",
      "                  parking_query       1.00      1.00      1.00        40\n",
      "         parking_walk_time_info       1.00      1.00      1.00        40\n",
      "         regular_schedule_query       1.00      1.00      1.00        40\n",
      "                  transfer_info       1.00      0.97      0.99        40\n",
      "           transfer_route_guide       0.95      1.00      0.98        40\n",
      "\n",
      "                       accuracy                           0.97       840\n",
      "                      macro avg       0.97      0.97      0.97       840\n",
      "                   weighted avg       0.97      0.97      0.97       840\n",
      "\n",
      "🔖 Label encoder saved.\n"
     ]
    },
    {
     "output_type": "stream",
     "name": "stderr",
     "text": [
      "\n"
     ]
    }
   ],
   "execution_count": 36
  },
  {
   "cell_type": "code",
   "execution_count": 37,
   "id": "0481949b",
   "metadata": {
    "id": "0481949b",
    "colab": {
     "base_uri": "https://localhost:8080/",
     "height": 416
    },
    "executionInfo": {
     "status": "ok",
     "timestamp": 1753254540842,
     "user_tz": -540,
     "elapsed": 168,
     "user": {
      "displayName": "Hyun Jung Oh",
      "userId": "14841286664462358370"
     }
    },
    "outputId": "7748cc08-c3cc-46fb-b26f-600577fec33f"
   },
   "outputs": [
    {
     "output_type": "display_data",
     "data": {
      "text/plain": [
       "<Figure size 1000x500 with 1 Axes>"
      ],
      "image/png": "[encoded data removed]"
     },
     "metadata": {}
    }
   ],
   "source": [
    "# 📈 학습 곡선 시각화\n",
    "plt.figure(figsize=(10, 5))\n",
    "plt.plot(train_losses, label='Train Loss')\n",
    "plt.plot(val_accuracies, label='Val Accuracy')\n",
    "plt.plot(val_confidences, label='Avg Confidence')\n",
    "plt.legend()\n",
    "plt.title(\"Training Progress\")\n",
    "plt.xlabel(\"Epoch\")\n",
    "plt.grid(True)\n",
    "plt.show()"
   ]
  },
  {
   "cell_type": "code",
   "source": [
    "import torch\n",
    "import torch.nn as nn\n",
    "from torch.nn.functional import softmax\n",
    "from transformers import BertModel\n",
    "from transformers import AutoTokenizer\n",
    "import pickle\n",
    "\n",
    "# 🧠 모델 클래스 정의\n",
    "class KoBERTClassifier(nn.Module):\n",
    "    def __init__(self, num_labels):\n",
    "        super(KoBERTClassifier, self).__init__()\n",
    "        self.bert = BertModel.from_pretrained(\"skt/kobert-base-v1\")\n",
    "        self.dropout = nn.Dropout(0.3)\n",
    "        self.classifier = nn.Linear(self.bert.config.hidden_size, num_labels)\n",
    "\n",
    "    def forward(self, input_ids, attention_mask):\n",
    "        outputs = self.bert(input_ids=input_ids, attention_mask=attention_mask)\n",
    "        pooled_output = outputs.pooler_output\n",
    "        return self.classifier(self.dropout(pooled_output))\n",
    "\n",
    "# 🔧 설정\n",
    "device = torch.device(\"cuda\" if torch.cuda.is_available() else \"cpu\")\n",
    "\n",
    "# ✅ 토크나이저 및 라벨 인코더 로드\n",
    "tokenizer = AutoTokenizer.from_pretrained(\"skt/kobert-base-v1\", use_fast=False)\n",
    "with open(\"best_models/intent-kobert-v1/label_encoder.pkl\", \"rb\") as f:\n",
    "    label_encoder = pickle.load(f)\n",
    "\n",
    "# ✅ 모델 로드\n",
    "model = KoBERTClassifier(num_labels=len(label_encoder.classes_))\n",
    "model.load_state_dict(torch.load(\"best_models/intent-kobert-v1/best_kobert_model.pt\", map_location=device))\n",
    "model.to(device)\n",
    "model.eval()\n",
    "\n",
    "# 🔮 예측 함수\n",
    "def predict_intent(text):\n",
    "    encoding = tokenizer(\n",
    "        text,\n",
    "        truncation=True,\n",
    "        padding='max_length',\n",
    "        max_length=64,\n",
    "        return_tensors='pt'\n",
    "    )\n",
    "    input_ids = encoding['input_ids'].to(device)\n",
    "    attention_mask = encoding['attention_mask'].to(device)\n",
    "\n",
    "    with torch.no_grad():\n",
    "        outputs = model(input_ids, attention_mask)\n",
    "        probs = softmax(outputs, dim=1)\n",
    "        conf, predicted = torch.max(probs, 1)\n",
    "\n",
    "    intent = label_encoder.inverse_transform([predicted.item()])[0]\n",
    "    return intent, conf.item()\n",
    "\n",
    "# 🔎 테스트\n",
    "if __name__ == \"__main__\":\n",
    "    while True:\n",
    "        text = input(\"✉️ 질문을 입력하세요 (종료하려면 'exit'): \")\n",
    "        if text.lower() == 'exit':\n",
    "            break\n",
    "        intent, confidence = predict_intent(text)\n",
    "        print(f\"🔖 예측 인텐트: {intent} | 🔍 Confidence: {confidence:.4f}\")\n"
   ],
   "metadata": {
    "colab": {
     "base_uri": "https://localhost:8080/",
     "height": 615
    },
    "id": "qE_RI64iMU4U",
    "executionInfo": {
     "status": "error",
     "timestamp": 1753254574269,
     "user_tz": -540,
     "elapsed": 29575,
     "user": {
      "displayName": "Hyun Jung Oh",
      "userId": "14841286664462358370"
     }
    },
    "outputId": "ee0068e2-1dd0-43a0-8505-336d37e939e9"
   },
   "id": "qE_RI64iMU4U",
   "execution_count": 38,
   "outputs": [
    {
     "output_type": "stream",
     "name": "stdout",
     "text": [
      "✉️ 질문을 입력하세요 (종료하려면 'exit'): 환승\n",
      "🔖 예측 인텐트: transfer_route_guide | 🔍 Confidence: 0.5778\n",
      "✉️ 질문을 입력하세요 (종료하려면 'exit'): 환승정보\n",
      "🔖 예측 인텐트: transfer_info | 🔍 Confidence: 0.9874\n",
      "✉️ 질문을 입력하세요 (종료하려면 'exit'): 항공편\n",
      "🔖 예측 인텐트: flight_info | 🔍 Confidence: 0.9915\n",
      "✉️ 질문을 입력하세요 (종료하려면 'exit'): 정기 항공\n",
      "🔖 예측 인텐트: regular_schedule_query | 🔍 Confidence: 0.9918\n",
      "✉️ 질문을 입력하세요 (종료하려면 'exit'): 주차장\n",
      "🔖 예측 인텐트: parking_availability_query | 🔍 Confidence: 0.8567\n",
      "✉️ 질문을 입력하세요 (종료하려면 'exit'): 입국\n",
      "🔖 예측 인텐트: arrival_policy_info | 🔍 Confidence: 0.9892\n"
     ]
    },
    {
     "output_type": "error",
     "ename": "KeyboardInterrupt",
     "evalue": "Interrupted by user",
     "traceback": [
      "\u001B[0;31m---------------------------------------------------------------------------\u001B[0m",
      "\u001B[0;31mKeyboardInterrupt\u001B[0m                         Traceback (most recent call last)",
      "\u001B[0;32m/tmp/ipython-input-38-3009841011.py\u001B[0m in \u001B[0;36m<cell line: 0>\u001B[0;34m()\u001B[0m\n\u001B[1;32m     56\u001B[0m \u001B[0;32mif\u001B[0m \u001B[0m__name__\u001B[0m \u001B[0;34m==\u001B[0m \u001B[0;34m\"__main__\"\u001B[0m\u001B[0;34m:\u001B[0m\u001B[0;34m\u001B[0m\u001B[0;34m\u001B[0m\u001B[0m\n\u001B[1;32m     57\u001B[0m     \u001B[0;32mwhile\u001B[0m \u001B[0;32mTrue\u001B[0m\u001B[0;34m:\u001B[0m\u001B[0;34m\u001B[0m\u001B[0;34m\u001B[0m\u001B[0m\n\u001B[0;32m---> 58\u001B[0;31m         \u001B[0mtext\u001B[0m \u001B[0;34m=\u001B[0m \u001B[0minput\u001B[0m\u001B[0;34m(\u001B[0m\u001B[0;34m\"✉️ 질문을 입력하세요 (종료하려면 'exit'): \"\u001B[0m\u001B[0;34m)\u001B[0m\u001B[0;34m\u001B[0m\u001B[0;34m\u001B[0m\u001B[0m\n\u001B[0m\u001B[1;32m     59\u001B[0m         \u001B[0;32mif\u001B[0m \u001B[0mtext\u001B[0m\u001B[0;34m.\u001B[0m\u001B[0mlower\u001B[0m\u001B[0;34m(\u001B[0m\u001B[0;34m)\u001B[0m \u001B[0;34m==\u001B[0m \u001B[0;34m'exit'\u001B[0m\u001B[0;34m:\u001B[0m\u001B[0;34m\u001B[0m\u001B[0;34m\u001B[0m\u001B[0m\n\u001B[1;32m     60\u001B[0m             \u001B[0;32mbreak\u001B[0m\u001B[0;34m\u001B[0m\u001B[0;34m\u001B[0m\u001B[0m\n",
      "\u001B[0;32m/usr/local/lib/python3.11/dist-packages/ipykernel/kernelbase.py\u001B[0m in \u001B[0;36mraw_input\u001B[0;34m(self, prompt)\u001B[0m\n\u001B[1;32m   1175\u001B[0m                 \u001B[0;34m\"raw_input was called, but this frontend does not support input requests.\"\u001B[0m\u001B[0;34m\u001B[0m\u001B[0;34m\u001B[0m\u001B[0m\n\u001B[1;32m   1176\u001B[0m             )\n\u001B[0;32m-> 1177\u001B[0;31m         return self._input_request(\n\u001B[0m\u001B[1;32m   1178\u001B[0m             \u001B[0mstr\u001B[0m\u001B[0;34m(\u001B[0m\u001B[0mprompt\u001B[0m\u001B[0;34m)\u001B[0m\u001B[0;34m,\u001B[0m\u001B[0;34m\u001B[0m\u001B[0;34m\u001B[0m\u001B[0m\n\u001B[1;32m   1179\u001B[0m             \u001B[0mself\u001B[0m\u001B[0;34m.\u001B[0m\u001B[0m_parent_ident\u001B[0m\u001B[0;34m[\u001B[0m\u001B[0;34m\"shell\"\u001B[0m\u001B[0;34m]\u001B[0m\u001B[0;34m,\u001B[0m\u001B[0;34m\u001B[0m\u001B[0;34m\u001B[0m\u001B[0m\n",
      "\u001B[0;32m/usr/local/lib/python3.11/dist-packages/ipykernel/kernelbase.py\u001B[0m in \u001B[0;36m_input_request\u001B[0;34m(self, prompt, ident, parent, password)\u001B[0m\n\u001B[1;32m   1217\u001B[0m             \u001B[0;32mexcept\u001B[0m \u001B[0mKeyboardInterrupt\u001B[0m\u001B[0;34m:\u001B[0m\u001B[0;34m\u001B[0m\u001B[0;34m\u001B[0m\u001B[0m\n\u001B[1;32m   1218\u001B[0m                 \u001B[0;31m# re-raise KeyboardInterrupt, to truncate traceback\u001B[0m\u001B[0;34m\u001B[0m\u001B[0;34m\u001B[0m\u001B[0m\n\u001B[0;32m-> 1219\u001B[0;31m                 \u001B[0;32mraise\u001B[0m \u001B[0mKeyboardInterrupt\u001B[0m\u001B[0;34m(\u001B[0m\u001B[0;34m\"Interrupted by user\"\u001B[0m\u001B[0;34m)\u001B[0m \u001B[0;32mfrom\u001B[0m \u001B[0;32mNone\u001B[0m\u001B[0;34m\u001B[0m\u001B[0;34m\u001B[0m\u001B[0m\n\u001B[0m\u001B[1;32m   1220\u001B[0m             \u001B[0;32mexcept\u001B[0m \u001B[0mException\u001B[0m\u001B[0;34m:\u001B[0m\u001B[0;34m\u001B[0m\u001B[0;34m\u001B[0m\u001B[0m\n\u001B[1;32m   1221\u001B[0m                 \u001B[0mself\u001B[0m\u001B[0;34m.\u001B[0m\u001B[0mlog\u001B[0m\u001B[0;34m.\u001B[0m\u001B[0mwarning\u001B[0m\u001B[0;34m(\u001B[0m\u001B[0;34m\"Invalid Message:\"\u001B[0m\u001B[0;34m,\u001B[0m \u001B[0mexc_info\u001B[0m\u001B[0;34m=\u001B[0m\u001B[0;32mTrue\u001B[0m\u001B[0;34m)\u001B[0m\u001B[0;34m\u001B[0m\u001B[0;34m\u001B[0m\u001B[0m\n",
      "\u001B[0;31mKeyboardInterrupt\u001B[0m: Interrupted by user"
     ]
    }
   ]
  },
  {
   "cell_type": "code",
   "source": [],
   "metadata": {
    "id": "scCsYcBMzH5V"
   },
   "id": "scCsYcBMzH5V",
   "execution_count": null,
   "outputs": []
  }
 ],
 "metadata": {
  "kernelspec": {
   "name": "python3",
   "display_name": "Python 3"
  },
  "colab": {
   "provenance": [],
   "machine_shape": "hm",
   "gpuType": "T4"
  },
  "accelerator": "GPU"
 },
 "nbformat": 4,
 "nbformat_minor": 5
}
